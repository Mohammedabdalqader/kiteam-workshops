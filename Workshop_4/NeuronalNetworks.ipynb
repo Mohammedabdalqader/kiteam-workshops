{
 "cells": [
  {
   "cell_type": "markdown",
   "metadata": {},
   "source": [
    "## Neuronal Networks\n",
    "\n",
    "In this exercise we use keras with theano backend in order to construct our first neuronal network. As a toy problem we use the classical Pima Indian Diabetes dataset. The example is based on [this introduction](https://github.com/dashee87/blogScripts/blob/master/Jupyter/2017-09-06-another-keras-tutorial-for-neural-network-beginners.ipynb)"
   ]
  },
  {
   "cell_type": "code",
   "execution_count": 22,
   "metadata": {},
   "outputs": [],
   "source": [
    "import numpy as np\n",
    "import pandas as pd\n",
    "import seaborn as sns\n",
    "import os\n",
    "import matplotlib.pyplot as plt\n",
    "import time\n",
    "from sklearn.preprocessing import StandardScaler\n",
    "from sklearn.model_selection import train_test_split\n",
    "from sklearn.model_selection import StratifiedKFold\n",
    "from sklearn.model_selection import RepeatedStratifiedKFold\n",
    "from sklearn.metrics import classification_report\n",
    "from sklearn.metrics import confusion_matrix\n",
    "\n",
    "from keras.models import Sequential\n",
    "from keras.layers import Dense\n",
    "from keras.callbacks import EarlyStopping"
   ]
  },
  {
   "cell_type": "code",
   "execution_count": 2,
   "metadata": {},
   "outputs": [
    {
     "data": {
      "text/html": [
       "<div>\n",
       "<style scoped>\n",
       "    .dataframe tbody tr th:only-of-type {\n",
       "        vertical-align: middle;\n",
       "    }\n",
       "\n",
       "    .dataframe tbody tr th {\n",
       "        vertical-align: top;\n",
       "    }\n",
       "\n",
       "    .dataframe thead th {\n",
       "        text-align: right;\n",
       "    }\n",
       "</style>\n",
       "<table border=\"1\" class=\"dataframe\">\n",
       "  <thead>\n",
       "    <tr style=\"text-align: right;\">\n",
       "      <th></th>\n",
       "      <th>Pregnancies</th>\n",
       "      <th>Glucose</th>\n",
       "      <th>BloodPressure</th>\n",
       "      <th>SkinThickness</th>\n",
       "      <th>Insulin</th>\n",
       "      <th>BMI</th>\n",
       "      <th>DiabetesPedigreeFunction</th>\n",
       "      <th>Age</th>\n",
       "      <th>Outcome</th>\n",
       "    </tr>\n",
       "  </thead>\n",
       "  <tbody>\n",
       "    <tr>\n",
       "      <th>0</th>\n",
       "      <td>6</td>\n",
       "      <td>148</td>\n",
       "      <td>72</td>\n",
       "      <td>35</td>\n",
       "      <td>0</td>\n",
       "      <td>33.6</td>\n",
       "      <td>0.627</td>\n",
       "      <td>50</td>\n",
       "      <td>1</td>\n",
       "    </tr>\n",
       "    <tr>\n",
       "      <th>1</th>\n",
       "      <td>1</td>\n",
       "      <td>85</td>\n",
       "      <td>66</td>\n",
       "      <td>29</td>\n",
       "      <td>0</td>\n",
       "      <td>26.6</td>\n",
       "      <td>0.351</td>\n",
       "      <td>31</td>\n",
       "      <td>0</td>\n",
       "    </tr>\n",
       "    <tr>\n",
       "      <th>2</th>\n",
       "      <td>8</td>\n",
       "      <td>183</td>\n",
       "      <td>64</td>\n",
       "      <td>0</td>\n",
       "      <td>0</td>\n",
       "      <td>23.3</td>\n",
       "      <td>0.672</td>\n",
       "      <td>32</td>\n",
       "      <td>1</td>\n",
       "    </tr>\n",
       "    <tr>\n",
       "      <th>3</th>\n",
       "      <td>1</td>\n",
       "      <td>89</td>\n",
       "      <td>66</td>\n",
       "      <td>23</td>\n",
       "      <td>94</td>\n",
       "      <td>28.1</td>\n",
       "      <td>0.167</td>\n",
       "      <td>21</td>\n",
       "      <td>0</td>\n",
       "    </tr>\n",
       "    <tr>\n",
       "      <th>4</th>\n",
       "      <td>0</td>\n",
       "      <td>137</td>\n",
       "      <td>40</td>\n",
       "      <td>35</td>\n",
       "      <td>168</td>\n",
       "      <td>43.1</td>\n",
       "      <td>2.288</td>\n",
       "      <td>33</td>\n",
       "      <td>1</td>\n",
       "    </tr>\n",
       "  </tbody>\n",
       "</table>\n",
       "</div>"
      ],
      "text/plain": [
       "  Pregnancies Glucose BloodPressure SkinThickness Insulin   BMI  \\\n",
       "0           6     148            72            35       0  33.6   \n",
       "1           1      85            66            29       0  26.6   \n",
       "2           8     183            64             0       0  23.3   \n",
       "3           1      89            66            23      94  28.1   \n",
       "4           0     137            40            35     168  43.1   \n",
       "\n",
       "  DiabetesPedigreeFunction Age Outcome  \n",
       "0                    0.627  50       1  \n",
       "1                    0.351  31       0  \n",
       "2                    0.672  32       1  \n",
       "3                    0.167  21       0  \n",
       "4                    2.288  33       1  "
      ]
     },
     "execution_count": 2,
     "metadata": {},
     "output_type": "execute_result"
    }
   ],
   "source": [
    "dataset = pd.read_csv(\"datasets/diabetes.csv\", header=None).values\n",
    "diabetesPD = pd.DataFrame(dataset[1:], columns=dataset[0])\n",
    "diabetesPD.head()"
   ]
  },
  {
   "cell_type": "markdown",
   "metadata": {},
   "source": [
    "## Explore Data Set"
   ]
  },
  {
   "cell_type": "code",
   "execution_count": 3,
   "metadata": {},
   "outputs": [
    {
     "data": {
      "text/html": [
       "<div>\n",
       "<style scoped>\n",
       "    .dataframe tbody tr th:only-of-type {\n",
       "        vertical-align: middle;\n",
       "    }\n",
       "\n",
       "    .dataframe tbody tr th {\n",
       "        vertical-align: top;\n",
       "    }\n",
       "\n",
       "    .dataframe thead th {\n",
       "        text-align: right;\n",
       "    }\n",
       "</style>\n",
       "<table border=\"1\" class=\"dataframe\">\n",
       "  <thead>\n",
       "    <tr style=\"text-align: right;\">\n",
       "      <th></th>\n",
       "      <th>Pregnancies</th>\n",
       "      <th>Glucose</th>\n",
       "      <th>BloodPressure</th>\n",
       "      <th>SkinThickness</th>\n",
       "      <th>Insulin</th>\n",
       "      <th>BMI</th>\n",
       "      <th>DiabetesPedigreeFunction</th>\n",
       "      <th>Age</th>\n",
       "      <th>Outcome</th>\n",
       "    </tr>\n",
       "  </thead>\n",
       "  <tbody>\n",
       "    <tr>\n",
       "      <th>count</th>\n",
       "      <td>768</td>\n",
       "      <td>768</td>\n",
       "      <td>768</td>\n",
       "      <td>768</td>\n",
       "      <td>768</td>\n",
       "      <td>768</td>\n",
       "      <td>768</td>\n",
       "      <td>768</td>\n",
       "      <td>768</td>\n",
       "    </tr>\n",
       "    <tr>\n",
       "      <th>unique</th>\n",
       "      <td>17</td>\n",
       "      <td>136</td>\n",
       "      <td>47</td>\n",
       "      <td>51</td>\n",
       "      <td>186</td>\n",
       "      <td>248</td>\n",
       "      <td>517</td>\n",
       "      <td>52</td>\n",
       "      <td>2</td>\n",
       "    </tr>\n",
       "    <tr>\n",
       "      <th>top</th>\n",
       "      <td>1</td>\n",
       "      <td>99</td>\n",
       "      <td>70</td>\n",
       "      <td>0</td>\n",
       "      <td>0</td>\n",
       "      <td>32</td>\n",
       "      <td>0.258</td>\n",
       "      <td>22</td>\n",
       "      <td>0</td>\n",
       "    </tr>\n",
       "    <tr>\n",
       "      <th>freq</th>\n",
       "      <td>135</td>\n",
       "      <td>17</td>\n",
       "      <td>57</td>\n",
       "      <td>227</td>\n",
       "      <td>374</td>\n",
       "      <td>13</td>\n",
       "      <td>6</td>\n",
       "      <td>72</td>\n",
       "      <td>500</td>\n",
       "    </tr>\n",
       "  </tbody>\n",
       "</table>\n",
       "</div>"
      ],
      "text/plain": [
       "       Pregnancies Glucose BloodPressure SkinThickness Insulin  BMI  \\\n",
       "count          768     768           768           768     768  768   \n",
       "unique          17     136            47            51     186  248   \n",
       "top              1      99            70             0       0   32   \n",
       "freq           135      17            57           227     374   13   \n",
       "\n",
       "       DiabetesPedigreeFunction  Age Outcome  \n",
       "count                       768  768     768  \n",
       "unique                      517   52       2  \n",
       "top                       0.258   22       0  \n",
       "freq                          6   72     500  "
      ]
     },
     "execution_count": 3,
     "metadata": {},
     "output_type": "execute_result"
    }
   ],
   "source": [
    "diabetesPD.describe()"
   ]
  },
  {
   "cell_type": "code",
   "execution_count": 4,
   "metadata": {},
   "outputs": [
    {
     "data": {
      "text/plain": [
       "Pregnancies                 False\n",
       "Glucose                     False\n",
       "BloodPressure               False\n",
       "SkinThickness               False\n",
       "Insulin                     False\n",
       "BMI                         False\n",
       "DiabetesPedigreeFunction    False\n",
       "Age                         False\n",
       "Outcome                     False\n",
       "dtype: bool"
      ]
     },
     "execution_count": 4,
     "metadata": {},
     "output_type": "execute_result"
    }
   ],
   "source": [
    "diabetesPD.isnull().any()"
   ]
  },
  {
   "cell_type": "code",
   "execution_count": 5,
   "metadata": {},
   "outputs": [
    {
     "data": {
      "text/plain": [
       "Pregnancies                 object\n",
       "Glucose                     object\n",
       "BloodPressure               object\n",
       "SkinThickness               object\n",
       "Insulin                     object\n",
       "BMI                         object\n",
       "DiabetesPedigreeFunction    object\n",
       "Age                         object\n",
       "Outcome                     object\n",
       "dtype: object"
      ]
     },
     "execution_count": 5,
     "metadata": {},
     "output_type": "execute_result"
    }
   ],
   "source": [
    "diabetesPD.dtypes"
   ]
  },
  {
   "cell_type": "code",
   "execution_count": 6,
   "metadata": {
    "scrolled": true
   },
   "outputs": [],
   "source": [
    "diabetesPD = diabetesPD.apply(pd.to_numeric, errors='ignore')"
   ]
  },
  {
   "cell_type": "code",
   "execution_count": 7,
   "metadata": {},
   "outputs": [
    {
     "data": {
      "text/plain": [
       "Pregnancies                   int64\n",
       "Glucose                       int64\n",
       "BloodPressure                 int64\n",
       "SkinThickness                 int64\n",
       "Insulin                       int64\n",
       "BMI                         float64\n",
       "DiabetesPedigreeFunction    float64\n",
       "Age                           int64\n",
       "Outcome                       int64\n",
       "dtype: object"
      ]
     },
     "execution_count": 7,
     "metadata": {},
     "output_type": "execute_result"
    }
   ],
   "source": [
    "diabetesPD.dtypes"
   ]
  },
  {
   "cell_type": "code",
   "execution_count": 8,
   "metadata": {},
   "outputs": [
    {
     "data": {
      "text/plain": [
       "0    500\n",
       "1    268\n",
       "Name: Outcome, dtype: int64"
      ]
     },
     "execution_count": 8,
     "metadata": {},
     "output_type": "execute_result"
    }
   ],
   "source": [
    "diabetesPD['Outcome'].value_counts()"
   ]
  },
  {
   "cell_type": "code",
   "execution_count": 9,
   "metadata": {},
   "outputs": [
    {
     "data": {
      "image/png": "[encoded data removed]",
      "text/plain": [
       "<Figure size 432x288 with 2 Axes>"
      ]
     },
     "metadata": {},
     "output_type": "display_data"
    }
   ],
   "source": [
    "corr_mat = diabetesPD.corr()\n",
    "sns.heatmap(corr_mat, cmap='coolwarm_r', annot_kws={'size':20})\n",
    "plt.show()"
   ]
  },
  {
   "cell_type": "code",
   "execution_count": 10,
   "metadata": {},
   "outputs": [
    {
     "name": "stderr",
     "output_type": "stream",
     "text": [
      "/Users/marcel/anaconda3/envs/ML_Setup/lib/python3.6/site-packages/matplotlib/axes/_axes.py:6462: UserWarning: The 'normed' kwarg is deprecated, and has been replaced by the 'density' kwarg.\n",
      "  warnings.warn(\"The 'normed' kwarg is deprecated, and has been \"\n",
      "/Users/marcel/anaconda3/envs/ML_Setup/lib/python3.6/site-packages/matplotlib/axes/_axes.py:6462: UserWarning: The 'normed' kwarg is deprecated, and has been replaced by the 'density' kwarg.\n",
      "  warnings.warn(\"The 'normed' kwarg is deprecated, and has been \"\n"
     ]
    },
    {
     "data": {
      "image/png": "[encoded data removed]",
      "text/plain": [
       "<Figure size 432x288 with 1 Axes>"
      ]
     },
     "metadata": {},
     "output_type": "display_data"
    }
   ],
   "source": [
    "sns.distplot(diabetesPD['Pregnancies'][diabetesPD['Outcome']==0],color='g',label='no diabetes')\n",
    "sns.distplot(diabetesPD['Pregnancies'][diabetesPD['Outcome']==1],color='r',label='diabetes')\n",
    "plt.legend()\n",
    "plt.show()"
   ]
  },
  {
   "cell_type": "markdown",
   "metadata": {},
   "source": [
    "## Split a test set BEFORE doing anything!"
   ]
  },
  {
   "cell_type": "markdown",
   "metadata": {},
   "source": [
    "#### Excursion: Splitting the data"
   ]
  },
  {
   "cell_type": "code",
   "execution_count": 11,
   "metadata": {},
   "outputs": [
    {
     "name": "stdout",
     "output_type": "stream",
     "text": [
      "(614, 8)\n",
      "(154, 8)\n"
     ]
    }
   ],
   "source": [
    "X = diabetesPD.drop('Outcome', axis = 1)\n",
    "Y = diabetesPD.Outcome\n",
    "\n",
    "X_train, X_test, Y_train, Y_test = train_test_split(X, Y, test_size=0.2)\n",
    "print(X_train.shape)\n",
    "print(X_test.shape)"
   ]
  },
  {
   "cell_type": "markdown",
   "metadata": {},
   "source": [
    "### Scaling the data"
   ]
  },
  {
   "cell_type": "code",
   "execution_count": 12,
   "metadata": {},
   "outputs": [
    {
     "data": {
      "text/plain": [
       "StandardScaler(copy=True, with_mean=True, with_std=True)"
      ]
     },
     "execution_count": 12,
     "metadata": {},
     "output_type": "execute_result"
    }
   ],
   "source": [
    "scaler = StandardScaler()\n",
    "scaler.fit(X_train)"
   ]
  },
  {
   "cell_type": "code",
   "execution_count": 13,
   "metadata": {},
   "outputs": [],
   "source": [
    "my_first_nn = Sequential() \n",
    "my_first_nn.add(Dense(5, input_dim=8, activation='relu')) \n",
    "my_first_nn.add(Dense(1, activation='sigmoid'))\n",
    "my_first_nn.compile(loss='binary_crossentropy', optimizer='adam', metrics=['accuracy'])"
   ]
  },
  {
   "cell_type": "code",
   "execution_count": 14,
   "metadata": {
    "scrolled": true
   },
   "outputs": [
    {
     "name": "stdout",
     "output_type": "stream",
     "text": [
      "Epoch 1/250\n",
      "614/614 [==============================] - 0s 328us/step - loss: 0.7024 - acc: 0.6075\n",
      "Epoch 2/250\n",
      "614/614 [==============================] - 0s 3us/step - loss: 0.7010 - acc: 0.6124\n",
      "Epoch 3/250\n",
      "614/614 [==============================] - 0s 3us/step - loss: 0.6997 - acc: 0.6156\n",
      "Epoch 4/250\n",
      "614/614 [==============================] - 0s 2us/step - loss: 0.6983 - acc: 0.6140\n",
      "Epoch 5/250\n",
      "614/614 [==============================] - 0s 2us/step - loss: 0.6969 - acc: 0.6189\n",
      "Epoch 6/250\n",
      "614/614 [==============================] - 0s 2us/step - loss: 0.6956 - acc: 0.6189\n",
      "Epoch 7/250\n",
      "614/614 [==============================] - 0s 3us/step - loss: 0.6943 - acc: 0.6189\n",
      "Epoch 8/250\n",
      "614/614 [==============================] - 0s 2us/step - loss: 0.6929 - acc: 0.6173\n",
      "Epoch 9/250\n",
      "614/614 [==============================] - 0s 2us/step - loss: 0.6916 - acc: 0.6156\n",
      "Epoch 10/250\n",
      "614/614 [==============================] - 0s 2us/step - loss: 0.6903 - acc: 0.6173\n",
      "Epoch 11/250\n",
      "614/614 [==============================] - 0s 3us/step - loss: 0.6890 - acc: 0.6189\n",
      "Epoch 12/250\n",
      "614/614 [==============================] - 0s 2us/step - loss: 0.6877 - acc: 0.6221\n",
      "Epoch 13/250\n",
      "614/614 [==============================] - 0s 2us/step - loss: 0.6864 - acc: 0.6238\n",
      "Epoch 14/250\n",
      "614/614 [==============================] - 0s 3us/step - loss: 0.6851 - acc: 0.6254\n",
      "Epoch 15/250\n",
      "614/614 [==============================] - 0s 3us/step - loss: 0.6838 - acc: 0.6254\n",
      "Epoch 16/250\n",
      "614/614 [==============================] - 0s 3us/step - loss: 0.6826 - acc: 0.6303\n",
      "Epoch 17/250\n",
      "614/614 [==============================] - 0s 3us/step - loss: 0.6813 - acc: 0.6352\n",
      "Epoch 18/250\n",
      "614/614 [==============================] - 0s 3us/step - loss: 0.6801 - acc: 0.6336\n",
      "Epoch 19/250\n",
      "614/614 [==============================] - 0s 4us/step - loss: 0.6788 - acc: 0.6352\n",
      "Epoch 20/250\n",
      "614/614 [==============================] - 0s 3us/step - loss: 0.6776 - acc: 0.6352\n",
      "Epoch 21/250\n",
      "614/614 [==============================] - 0s 3us/step - loss: 0.6764 - acc: 0.6368\n",
      "Epoch 22/250\n",
      "614/614 [==============================] - 0s 3us/step - loss: 0.6752 - acc: 0.6384\n",
      "Epoch 23/250\n",
      "614/614 [==============================] - 0s 3us/step - loss: 0.6740 - acc: 0.6384\n",
      "Epoch 24/250\n",
      "614/614 [==============================] - 0s 3us/step - loss: 0.6728 - acc: 0.6417\n",
      "Epoch 25/250\n",
      "614/614 [==============================] - 0s 3us/step - loss: 0.6716 - acc: 0.6466\n",
      "Epoch 26/250\n",
      "614/614 [==============================] - 0s 3us/step - loss: 0.6704 - acc: 0.6498\n",
      "Epoch 27/250\n",
      "614/614 [==============================] - 0s 3us/step - loss: 0.6693 - acc: 0.6515\n",
      "Epoch 28/250\n",
      "614/614 [==============================] - 0s 5us/step - loss: 0.6681 - acc: 0.6564\n",
      "Epoch 29/250\n",
      "614/614 [==============================] - 0s 3us/step - loss: 0.6670 - acc: 0.6612\n",
      "Epoch 30/250\n",
      "614/614 [==============================] - 0s 4us/step - loss: 0.6658 - acc: 0.6612\n",
      "Epoch 31/250\n",
      "614/614 [==============================] - 0s 3us/step - loss: 0.6647 - acc: 0.6629\n",
      "Epoch 32/250\n",
      "614/614 [==============================] - 0s 2us/step - loss: 0.6636 - acc: 0.6629\n",
      "Epoch 33/250\n",
      "614/614 [==============================] - 0s 3us/step - loss: 0.6625 - acc: 0.6629\n",
      "Epoch 34/250\n",
      "614/614 [==============================] - 0s 3us/step - loss: 0.6613 - acc: 0.6645\n",
      "Epoch 35/250\n",
      "614/614 [==============================] - 0s 3us/step - loss: 0.6602 - acc: 0.6678\n",
      "Epoch 36/250\n",
      "614/614 [==============================] - 0s 3us/step - loss: 0.6592 - acc: 0.6710\n",
      "Epoch 37/250\n",
      "614/614 [==============================] - 0s 3us/step - loss: 0.6581 - acc: 0.6710\n",
      "Epoch 38/250\n",
      "614/614 [==============================] - 0s 3us/step - loss: 0.6570 - acc: 0.6710\n",
      "Epoch 39/250\n",
      "614/614 [==============================] - 0s 3us/step - loss: 0.6559 - acc: 0.6694\n",
      "Epoch 40/250\n",
      "614/614 [==============================] - 0s 3us/step - loss: 0.6549 - acc: 0.6694\n",
      "Epoch 41/250\n",
      "614/614 [==============================] - 0s 2us/step - loss: 0.6538 - acc: 0.6694\n",
      "Epoch 42/250\n",
      "614/614 [==============================] - 0s 3us/step - loss: 0.6528 - acc: 0.6694\n",
      "Epoch 43/250\n",
      "614/614 [==============================] - 0s 3us/step - loss: 0.6517 - acc: 0.6678\n",
      "Epoch 44/250\n",
      "614/614 [==============================] - 0s 2us/step - loss: 0.6507 - acc: 0.6678\n",
      "Epoch 45/250\n",
      "614/614 [==============================] - 0s 2us/step - loss: 0.6497 - acc: 0.6678\n",
      "Epoch 46/250\n",
      "614/614 [==============================] - 0s 2us/step - loss: 0.6487 - acc: 0.6678\n",
      "Epoch 47/250\n",
      "614/614 [==============================] - 0s 4us/step - loss: 0.6476 - acc: 0.6678\n",
      "Epoch 48/250\n",
      "614/614 [==============================] - 0s 2us/step - loss: 0.6467 - acc: 0.6678\n",
      "Epoch 49/250\n",
      "614/614 [==============================] - 0s 2us/step - loss: 0.6457 - acc: 0.6710\n",
      "Epoch 50/250\n",
      "614/614 [==============================] - 0s 2us/step - loss: 0.6447 - acc: 0.6726\n",
      "Epoch 51/250\n",
      "614/614 [==============================] - 0s 2us/step - loss: 0.6437 - acc: 0.6710\n",
      "Epoch 52/250\n",
      "614/614 [==============================] - 0s 3us/step - loss: 0.6427 - acc: 0.6710\n",
      "Epoch 53/250\n",
      "614/614 [==============================] - 0s 2us/step - loss: 0.6418 - acc: 0.6710\n",
      "Epoch 54/250\n",
      "614/614 [==============================] - 0s 2us/step - loss: 0.6408 - acc: 0.6694\n",
      "Epoch 55/250\n",
      "614/614 [==============================] - 0s 3us/step - loss: 0.6399 - acc: 0.6694\n",
      "Epoch 56/250\n",
      "614/614 [==============================] - 0s 3us/step - loss: 0.6389 - acc: 0.6710\n",
      "Epoch 57/250\n",
      "614/614 [==============================] - 0s 2us/step - loss: 0.6380 - acc: 0.6710\n",
      "Epoch 58/250\n",
      "614/614 [==============================] - 0s 3us/step - loss: 0.6371 - acc: 0.6710\n",
      "Epoch 59/250\n",
      "614/614 [==============================] - 0s 3us/step - loss: 0.6362 - acc: 0.6694\n",
      "Epoch 60/250\n",
      "614/614 [==============================] - 0s 3us/step - loss: 0.6352 - acc: 0.6694\n",
      "Epoch 61/250\n",
      "614/614 [==============================] - 0s 3us/step - loss: 0.6343 - acc: 0.6710\n",
      "Epoch 62/250\n",
      "614/614 [==============================] - 0s 3us/step - loss: 0.6334 - acc: 0.6726\n",
      "Epoch 63/250\n",
      "614/614 [==============================] - 0s 4us/step - loss: 0.6325 - acc: 0.6775\n",
      "Epoch 64/250\n",
      "614/614 [==============================] - 0s 3us/step - loss: 0.6317 - acc: 0.6775\n",
      "Epoch 65/250\n",
      "614/614 [==============================] - 0s 2us/step - loss: 0.6308 - acc: 0.6792\n",
      "Epoch 66/250\n",
      "614/614 [==============================] - 0s 3us/step - loss: 0.6299 - acc: 0.6824\n",
      "Epoch 67/250\n",
      "614/614 [==============================] - 0s 2us/step - loss: 0.6291 - acc: 0.6857\n",
      "Epoch 68/250\n",
      "614/614 [==============================] - 0s 3us/step - loss: 0.6282 - acc: 0.6873\n",
      "Epoch 69/250\n",
      "614/614 [==============================] - 0s 3us/step - loss: 0.6273 - acc: 0.6889\n",
      "Epoch 70/250\n",
      "614/614 [==============================] - 0s 2us/step - loss: 0.6265 - acc: 0.6906\n",
      "Epoch 71/250\n",
      "614/614 [==============================] - 0s 3us/step - loss: 0.6257 - acc: 0.6906\n",
      "Epoch 72/250\n",
      "614/614 [==============================] - 0s 3us/step - loss: 0.6248 - acc: 0.6922\n",
      "Epoch 73/250\n",
      "614/614 [==============================] - 0s 3us/step - loss: 0.6240 - acc: 0.6922\n",
      "Epoch 74/250\n",
      "614/614 [==============================] - 0s 3us/step - loss: 0.6232 - acc: 0.6922\n",
      "Epoch 75/250\n",
      "614/614 [==============================] - 0s 3us/step - loss: 0.6223 - acc: 0.6971\n",
      "Epoch 76/250\n",
      "614/614 [==============================] - 0s 2us/step - loss: 0.6215 - acc: 0.6971\n",
      "Epoch 77/250\n",
      "614/614 [==============================] - 0s 3us/step - loss: 0.6207 - acc: 0.6971\n",
      "Epoch 78/250\n",
      "614/614 [==============================] - 0s 3us/step - loss: 0.6199 - acc: 0.7003\n",
      "Epoch 79/250\n",
      "614/614 [==============================] - 0s 3us/step - loss: 0.6191 - acc: 0.7003\n",
      "Epoch 80/250\n",
      "614/614 [==============================] - 0s 3us/step - loss: 0.6183 - acc: 0.7003\n",
      "Epoch 81/250\n",
      "614/614 [==============================] - 0s 3us/step - loss: 0.6175 - acc: 0.7003\n",
      "Epoch 82/250\n",
      "614/614 [==============================] - 0s 2us/step - loss: 0.6167 - acc: 0.7020\n",
      "Epoch 83/250\n",
      "614/614 [==============================] - 0s 2us/step - loss: 0.6160 - acc: 0.7020\n",
      "Epoch 84/250\n",
      "614/614 [==============================] - 0s 3us/step - loss: 0.6152 - acc: 0.7020\n",
      "Epoch 85/250\n",
      "614/614 [==============================] - 0s 4us/step - loss: 0.6144 - acc: 0.7003\n",
      "Epoch 86/250\n",
      "614/614 [==============================] - 0s 3us/step - loss: 0.6137 - acc: 0.7003\n",
      "Epoch 87/250\n",
      "614/614 [==============================] - 0s 3us/step - loss: 0.6129 - acc: 0.7003\n",
      "Epoch 88/250\n",
      "614/614 [==============================] - 0s 2us/step - loss: 0.6121 - acc: 0.7020\n",
      "Epoch 89/250\n",
      "614/614 [==============================] - 0s 3us/step - loss: 0.6114 - acc: 0.7020\n",
      "Epoch 90/250\n",
      "614/614 [==============================] - 0s 3us/step - loss: 0.6106 - acc: 0.7020\n",
      "Epoch 91/250\n",
      "614/614 [==============================] - 0s 3us/step - loss: 0.6099 - acc: 0.7020\n",
      "Epoch 92/250\n",
      "614/614 [==============================] - 0s 4us/step - loss: 0.6091 - acc: 0.7003\n",
      "Epoch 93/250\n",
      "614/614 [==============================] - 0s 4us/step - loss: 0.6084 - acc: 0.7020\n",
      "Epoch 94/250\n",
      "614/614 [==============================] - 0s 2us/step - loss: 0.6077 - acc: 0.7020\n",
      "Epoch 95/250\n",
      "614/614 [==============================] - 0s 2us/step - loss: 0.6070 - acc: 0.7020\n",
      "Epoch 96/250\n",
      "614/614 [==============================] - 0s 3us/step - loss: 0.6062 - acc: 0.7003\n",
      "Epoch 97/250\n",
      "614/614 [==============================] - 0s 2us/step - loss: 0.6055 - acc: 0.7036\n",
      "Epoch 98/250\n",
      "614/614 [==============================] - 0s 2us/step - loss: 0.6048 - acc: 0.7036\n",
      "Epoch 99/250\n",
      "614/614 [==============================] - 0s 2us/step - loss: 0.6041 - acc: 0.7036\n",
      "Epoch 100/250\n",
      "614/614 [==============================] - 0s 2us/step - loss: 0.6034 - acc: 0.7052\n",
      "Epoch 101/250\n",
      "614/614 [==============================] - 0s 2us/step - loss: 0.6027 - acc: 0.7085\n",
      "Epoch 102/250\n",
      "614/614 [==============================] - 0s 2us/step - loss: 0.6020 - acc: 0.7085\n",
      "Epoch 103/250\n",
      "614/614 [==============================] - 0s 2us/step - loss: 0.6013 - acc: 0.7101\n",
      "Epoch 104/250\n",
      "614/614 [==============================] - 0s 3us/step - loss: 0.6006 - acc: 0.7101\n",
      "Epoch 105/250\n",
      "614/614 [==============================] - 0s 3us/step - loss: 0.5999 - acc: 0.7101\n",
      "Epoch 106/250\n",
      "614/614 [==============================] - 0s 2us/step - loss: 0.5992 - acc: 0.7101\n",
      "Epoch 107/250\n",
      "614/614 [==============================] - 0s 3us/step - loss: 0.5985 - acc: 0.7117\n",
      "Epoch 108/250\n",
      "614/614 [==============================] - 0s 2us/step - loss: 0.5978 - acc: 0.7117\n",
      "Epoch 109/250\n",
      "614/614 [==============================] - 0s 2us/step - loss: 0.5972 - acc: 0.7134\n",
      "Epoch 110/250\n",
      "614/614 [==============================] - 0s 2us/step - loss: 0.5965 - acc: 0.7134\n",
      "Epoch 111/250\n",
      "614/614 [==============================] - 0s 3us/step - loss: 0.5958 - acc: 0.7134\n",
      "Epoch 112/250\n",
      "614/614 [==============================] - 0s 3us/step - loss: 0.5952 - acc: 0.7134\n",
      "Epoch 113/250\n",
      "614/614 [==============================] - 0s 3us/step - loss: 0.5945 - acc: 0.7134\n",
      "Epoch 114/250\n",
      "614/614 [==============================] - 0s 3us/step - loss: 0.5938 - acc: 0.7134\n",
      "Epoch 115/250\n",
      "614/614 [==============================] - 0s 4us/step - loss: 0.5932 - acc: 0.7134\n",
      "Epoch 116/250\n",
      "614/614 [==============================] - 0s 3us/step - loss: 0.5925 - acc: 0.7150\n",
      "Epoch 117/250\n",
      "614/614 [==============================] - 0s 3us/step - loss: 0.5919 - acc: 0.7150\n",
      "Epoch 118/250\n",
      "614/614 [==============================] - 0s 4us/step - loss: 0.5912 - acc: 0.7166\n",
      "Epoch 119/250\n",
      "614/614 [==============================] - 0s 3us/step - loss: 0.5906 - acc: 0.7166\n",
      "Epoch 120/250\n",
      "614/614 [==============================] - 0s 4us/step - loss: 0.5899 - acc: 0.7166\n",
      "Epoch 121/250\n",
      "614/614 [==============================] - 0s 3us/step - loss: 0.5893 - acc: 0.7166\n",
      "Epoch 122/250\n",
      "614/614 [==============================] - 0s 2us/step - loss: 0.5886 - acc: 0.7166\n",
      "Epoch 123/250\n",
      "614/614 [==============================] - 0s 2us/step - loss: 0.5880 - acc: 0.7166\n",
      "Epoch 124/250\n",
      "614/614 [==============================] - 0s 3us/step - loss: 0.5874 - acc: 0.7166\n",
      "Epoch 125/250\n",
      "614/614 [==============================] - 0s 3us/step - loss: 0.5867 - acc: 0.7182\n",
      "Epoch 126/250\n",
      "614/614 [==============================] - 0s 3us/step - loss: 0.5861 - acc: 0.7182\n",
      "Epoch 127/250\n",
      "614/614 [==============================] - 0s 2us/step - loss: 0.5855 - acc: 0.7182\n",
      "Epoch 128/250\n",
      "614/614 [==============================] - 0s 2us/step - loss: 0.5848 - acc: 0.7182\n",
      "Epoch 129/250\n",
      "614/614 [==============================] - 0s 5us/step - loss: 0.5842 - acc: 0.7182\n",
      "Epoch 130/250\n",
      "614/614 [==============================] - 0s 3us/step - loss: 0.5836 - acc: 0.7182\n",
      "Epoch 131/250\n",
      "614/614 [==============================] - 0s 3us/step - loss: 0.5830 - acc: 0.7182\n",
      "Epoch 132/250\n",
      "614/614 [==============================] - 0s 3us/step - loss: 0.5824 - acc: 0.7182\n",
      "Epoch 133/250\n",
      "614/614 [==============================] - 0s 4us/step - loss: 0.5818 - acc: 0.7199\n",
      "Epoch 134/250\n",
      "614/614 [==============================] - 0s 3us/step - loss: 0.5812 - acc: 0.7182\n",
      "Epoch 135/250\n",
      "614/614 [==============================] - 0s 3us/step - loss: 0.5806 - acc: 0.7199\n",
      "Epoch 136/250\n",
      "614/614 [==============================] - 0s 2us/step - loss: 0.5800 - acc: 0.7182\n",
      "Epoch 137/250\n",
      "614/614 [==============================] - 0s 3us/step - loss: 0.5794 - acc: 0.7182\n",
      "Epoch 138/250\n",
      "614/614 [==============================] - 0s 2us/step - loss: 0.5788 - acc: 0.7150\n",
      "Epoch 139/250\n",
      "614/614 [==============================] - 0s 2us/step - loss: 0.5782 - acc: 0.7150\n",
      "Epoch 140/250\n",
      "614/614 [==============================] - 0s 2us/step - loss: 0.5776 - acc: 0.7182\n",
      "Epoch 141/250\n",
      "614/614 [==============================] - 0s 2us/step - loss: 0.5770 - acc: 0.7182\n",
      "Epoch 142/250\n",
      "614/614 [==============================] - 0s 3us/step - loss: 0.5764 - acc: 0.7182\n",
      "Epoch 143/250\n",
      "614/614 [==============================] - 0s 3us/step - loss: 0.5758 - acc: 0.7199\n",
      "Epoch 144/250\n",
      "614/614 [==============================] - 0s 3us/step - loss: 0.5752 - acc: 0.7199\n",
      "Epoch 145/250\n",
      "614/614 [==============================] - 0s 2us/step - loss: 0.5746 - acc: 0.7199\n",
      "Epoch 146/250\n",
      "614/614 [==============================] - 0s 3us/step - loss: 0.5740 - acc: 0.7215\n",
      "Epoch 147/250\n",
      "614/614 [==============================] - 0s 3us/step - loss: 0.5735 - acc: 0.7231\n",
      "Epoch 148/250\n",
      "614/614 [==============================] - 0s 3us/step - loss: 0.5729 - acc: 0.7215\n",
      "Epoch 149/250\n",
      "614/614 [==============================] - 0s 3us/step - loss: 0.5723 - acc: 0.7199\n",
      "Epoch 150/250\n",
      "614/614 [==============================] - 0s 2us/step - loss: 0.5717 - acc: 0.7182\n",
      "Epoch 151/250\n",
      "614/614 [==============================] - 0s 2us/step - loss: 0.5712 - acc: 0.7182\n",
      "Epoch 152/250\n",
      "614/614 [==============================] - 0s 2us/step - loss: 0.5706 - acc: 0.7199\n",
      "Epoch 153/250\n",
      "614/614 [==============================] - 0s 3us/step - loss: 0.5701 - acc: 0.7199\n",
      "Epoch 154/250\n",
      "614/614 [==============================] - 0s 4us/step - loss: 0.5695 - acc: 0.7215\n",
      "Epoch 155/250\n",
      "614/614 [==============================] - 0s 2us/step - loss: 0.5689 - acc: 0.7231\n",
      "Epoch 156/250\n",
      "614/614 [==============================] - 0s 3us/step - loss: 0.5684 - acc: 0.7248\n",
      "Epoch 157/250\n",
      "614/614 [==============================] - 0s 3us/step - loss: 0.5678 - acc: 0.7231\n",
      "Epoch 158/250\n",
      "614/614 [==============================] - 0s 3us/step - loss: 0.5673 - acc: 0.7231\n",
      "Epoch 159/250\n",
      "614/614 [==============================] - 0s 3us/step - loss: 0.5667 - acc: 0.7264\n",
      "Epoch 160/250\n",
      "614/614 [==============================] - 0s 3us/step - loss: 0.5662 - acc: 0.7264\n",
      "Epoch 161/250\n",
      "614/614 [==============================] - 0s 3us/step - loss: 0.5656 - acc: 0.7264\n",
      "Epoch 162/250\n",
      "614/614 [==============================] - 0s 4us/step - loss: 0.5651 - acc: 0.7264\n",
      "Epoch 163/250\n",
      "614/614 [==============================] - 0s 2us/step - loss: 0.5646 - acc: 0.7264\n",
      "Epoch 164/250\n",
      "614/614 [==============================] - 0s 2us/step - loss: 0.5640 - acc: 0.7280\n",
      "Epoch 165/250\n",
      "614/614 [==============================] - 0s 3us/step - loss: 0.5635 - acc: 0.7264\n",
      "Epoch 166/250\n",
      "614/614 [==============================] - 0s 3us/step - loss: 0.5630 - acc: 0.7264\n",
      "Epoch 167/250\n",
      "614/614 [==============================] - 0s 3us/step - loss: 0.5624 - acc: 0.7264\n",
      "Epoch 168/250\n",
      "614/614 [==============================] - 0s 3us/step - loss: 0.5619 - acc: 0.7264\n",
      "Epoch 169/250\n",
      "614/614 [==============================] - 0s 2us/step - loss: 0.5614 - acc: 0.7280\n",
      "Epoch 170/250\n",
      "614/614 [==============================] - 0s 2us/step - loss: 0.5608 - acc: 0.7280\n",
      "Epoch 171/250\n",
      "614/614 [==============================] - 0s 2us/step - loss: 0.5603 - acc: 0.7280\n",
      "Epoch 172/250\n",
      "614/614 [==============================] - 0s 2us/step - loss: 0.5598 - acc: 0.7280\n",
      "Epoch 173/250\n",
      "614/614 [==============================] - 0s 3us/step - loss: 0.5593 - acc: 0.7280\n",
      "Epoch 174/250\n",
      "614/614 [==============================] - 0s 3us/step - loss: 0.5588 - acc: 0.7280\n",
      "Epoch 175/250\n",
      "614/614 [==============================] - 0s 3us/step - loss: 0.5583 - acc: 0.7280\n",
      "Epoch 176/250\n",
      "614/614 [==============================] - 0s 3us/step - loss: 0.5578 - acc: 0.7280\n",
      "Epoch 177/250\n",
      "614/614 [==============================] - 0s 2us/step - loss: 0.5573 - acc: 0.7296\n",
      "Epoch 178/250\n",
      "614/614 [==============================] - 0s 3us/step - loss: 0.5567 - acc: 0.7296\n",
      "Epoch 179/250\n",
      "614/614 [==============================] - 0s 3us/step - loss: 0.5562 - acc: 0.7280\n",
      "Epoch 180/250\n",
      "614/614 [==============================] - 0s 3us/step - loss: 0.5557 - acc: 0.7280\n",
      "Epoch 181/250\n",
      "614/614 [==============================] - 0s 3us/step - loss: 0.5552 - acc: 0.7296\n",
      "Epoch 182/250\n",
      "614/614 [==============================] - 0s 2us/step - loss: 0.5547 - acc: 0.7329\n",
      "Epoch 183/250\n",
      "614/614 [==============================] - 0s 3us/step - loss: 0.5542 - acc: 0.7329\n",
      "Epoch 184/250\n",
      "614/614 [==============================] - 0s 2us/step - loss: 0.5537 - acc: 0.7329\n",
      "Epoch 185/250\n",
      "614/614 [==============================] - 0s 3us/step - loss: 0.5533 - acc: 0.7329\n",
      "Epoch 186/250\n",
      "614/614 [==============================] - 0s 2us/step - loss: 0.5528 - acc: 0.7345\n",
      "Epoch 187/250\n",
      "614/614 [==============================] - 0s 3us/step - loss: 0.5523 - acc: 0.7345\n",
      "Epoch 188/250\n",
      "614/614 [==============================] - 0s 4us/step - loss: 0.5518 - acc: 0.7345\n",
      "Epoch 189/250\n",
      "614/614 [==============================] - 0s 2us/step - loss: 0.5513 - acc: 0.7345\n",
      "Epoch 190/250\n",
      "614/614 [==============================] - 0s 3us/step - loss: 0.5508 - acc: 0.7362\n",
      "Epoch 191/250\n",
      "614/614 [==============================] - 0s 3us/step - loss: 0.5503 - acc: 0.7345\n",
      "Epoch 192/250\n",
      "614/614 [==============================] - 0s 2us/step - loss: 0.5499 - acc: 0.7345\n",
      "Epoch 193/250\n",
      "614/614 [==============================] - 0s 2us/step - loss: 0.5494 - acc: 0.7345\n",
      "Epoch 194/250\n",
      "614/614 [==============================] - 0s 2us/step - loss: 0.5489 - acc: 0.7345\n",
      "Epoch 195/250\n",
      "614/614 [==============================] - 0s 2us/step - loss: 0.5484 - acc: 0.7362\n",
      "Epoch 196/250\n",
      "614/614 [==============================] - 0s 3us/step - loss: 0.5479 - acc: 0.7362\n",
      "Epoch 197/250\n",
      "614/614 [==============================] - 0s 3us/step - loss: 0.5475 - acc: 0.7362\n",
      "Epoch 198/250\n",
      "614/614 [==============================] - 0s 3us/step - loss: 0.5470 - acc: 0.7394\n",
      "Epoch 199/250\n",
      "614/614 [==============================] - 0s 3us/step - loss: 0.5465 - acc: 0.7394\n",
      "Epoch 200/250\n",
      "614/614 [==============================] - 0s 2us/step - loss: 0.5461 - acc: 0.7394\n",
      "Epoch 201/250\n",
      "614/614 [==============================] - 0s 3us/step - loss: 0.5456 - acc: 0.7394\n",
      "Epoch 202/250\n",
      "614/614 [==============================] - 0s 3us/step - loss: 0.5452 - acc: 0.7410\n",
      "Epoch 203/250\n",
      "614/614 [==============================] - 0s 3us/step - loss: 0.5447 - acc: 0.7427\n",
      "Epoch 204/250\n",
      "614/614 [==============================] - 0s 3us/step - loss: 0.5442 - acc: 0.7427\n",
      "Epoch 205/250\n",
      "614/614 [==============================] - 0s 3us/step - loss: 0.5438 - acc: 0.7427\n",
      "Epoch 206/250\n",
      "614/614 [==============================] - 0s 3us/step - loss: 0.5433 - acc: 0.7427\n",
      "Epoch 207/250\n",
      "614/614 [==============================] - 0s 2us/step - loss: 0.5429 - acc: 0.7427\n",
      "Epoch 208/250\n",
      "614/614 [==============================] - 0s 2us/step - loss: 0.5424 - acc: 0.7427\n",
      "Epoch 209/250\n",
      "614/614 [==============================] - 0s 3us/step - loss: 0.5420 - acc: 0.7410\n",
      "Epoch 210/250\n",
      "614/614 [==============================] - 0s 2us/step - loss: 0.5415 - acc: 0.7443\n",
      "Epoch 211/250\n",
      "614/614 [==============================] - 0s 3us/step - loss: 0.5411 - acc: 0.7459\n",
      "Epoch 212/250\n",
      "614/614 [==============================] - 0s 3us/step - loss: 0.5407 - acc: 0.7476\n",
      "Epoch 213/250\n",
      "614/614 [==============================] - 0s 3us/step - loss: 0.5402 - acc: 0.7476\n",
      "Epoch 214/250\n",
      "614/614 [==============================] - 0s 3us/step - loss: 0.5398 - acc: 0.7476\n",
      "Epoch 215/250\n",
      "614/614 [==============================] - 0s 4us/step - loss: 0.5394 - acc: 0.7476\n",
      "Epoch 216/250\n",
      "614/614 [==============================] - 0s 3us/step - loss: 0.5389 - acc: 0.7492\n",
      "Epoch 217/250\n",
      "614/614 [==============================] - 0s 2us/step - loss: 0.5385 - acc: 0.7492\n",
      "Epoch 218/250\n",
      "614/614 [==============================] - 0s 3us/step - loss: 0.5381 - acc: 0.7508\n",
      "Epoch 219/250\n",
      "614/614 [==============================] - 0s 2us/step - loss: 0.5377 - acc: 0.7508\n",
      "Epoch 220/250\n",
      "614/614 [==============================] - 0s 3us/step - loss: 0.5372 - acc: 0.7508\n",
      "Epoch 221/250\n",
      "614/614 [==============================] - 0s 2us/step - loss: 0.5368 - acc: 0.7508\n",
      "Epoch 222/250\n",
      "614/614 [==============================] - 0s 3us/step - loss: 0.5364 - acc: 0.7508\n",
      "Epoch 223/250\n",
      "614/614 [==============================] - 0s 2us/step - loss: 0.5360 - acc: 0.7508\n",
      "Epoch 224/250\n",
      "614/614 [==============================] - 0s 3us/step - loss: 0.5355 - acc: 0.7508\n",
      "Epoch 225/250\n",
      "614/614 [==============================] - 0s 3us/step - loss: 0.5351 - acc: 0.7508\n",
      "Epoch 226/250\n",
      "614/614 [==============================] - 0s 3us/step - loss: 0.5347 - acc: 0.7508\n",
      "Epoch 227/250\n",
      "614/614 [==============================] - 0s 3us/step - loss: 0.5343 - acc: 0.7508\n",
      "Epoch 228/250\n",
      "614/614 [==============================] - 0s 4us/step - loss: 0.5339 - acc: 0.7508\n",
      "Epoch 229/250\n",
      "614/614 [==============================] - 0s 3us/step - loss: 0.5335 - acc: 0.7508\n",
      "Epoch 230/250\n",
      "614/614 [==============================] - 0s 3us/step - loss: 0.5331 - acc: 0.7524\n",
      "Epoch 231/250\n",
      "614/614 [==============================] - 0s 3us/step - loss: 0.5327 - acc: 0.7524\n",
      "Epoch 232/250\n",
      "614/614 [==============================] - 0s 4us/step - loss: 0.5323 - acc: 0.7524\n",
      "Epoch 233/250\n",
      "614/614 [==============================] - 0s 3us/step - loss: 0.5319 - acc: 0.7524\n",
      "Epoch 234/250\n",
      "614/614 [==============================] - 0s 3us/step - loss: 0.5315 - acc: 0.7524\n",
      "Epoch 235/250\n",
      "614/614 [==============================] - 0s 2us/step - loss: 0.5311 - acc: 0.7524\n",
      "Epoch 236/250\n",
      "614/614 [==============================] - 0s 3us/step - loss: 0.5307 - acc: 0.7524\n",
      "Epoch 237/250\n",
      "614/614 [==============================] - 0s 4us/step - loss: 0.5303 - acc: 0.7524\n",
      "Epoch 238/250\n",
      "614/614 [==============================] - 0s 3us/step - loss: 0.5299 - acc: 0.7508\n",
      "Epoch 239/250\n",
      "614/614 [==============================] - 0s 2us/step - loss: 0.5295 - acc: 0.7524\n",
      "Epoch 240/250\n",
      "614/614 [==============================] - 0s 3us/step - loss: 0.5291 - acc: 0.7524\n",
      "Epoch 241/250\n",
      "614/614 [==============================] - 0s 2us/step - loss: 0.5287 - acc: 0.7524\n",
      "Epoch 242/250\n",
      "614/614 [==============================] - 0s 3us/step - loss: 0.5283 - acc: 0.7524\n",
      "Epoch 243/250\n",
      "614/614 [==============================] - 0s 2us/step - loss: 0.5279 - acc: 0.7524\n",
      "Epoch 244/250\n",
      "614/614 [==============================] - 0s 2us/step - loss: 0.5276 - acc: 0.7508\n",
      "Epoch 245/250\n",
      "614/614 [==============================] - 0s 2us/step - loss: 0.5272 - acc: 0.7508\n",
      "Epoch 246/250\n",
      "614/614 [==============================] - 0s 3us/step - loss: 0.5268 - acc: 0.7524\n",
      "Epoch 247/250\n",
      "614/614 [==============================] - 0s 4us/step - loss: 0.5264 - acc: 0.7524\n",
      "Epoch 248/250\n",
      "614/614 [==============================] - 0s 2us/step - loss: 0.5261 - acc: 0.7524\n",
      "Epoch 249/250\n",
      "614/614 [==============================] - 0s 2us/step - loss: 0.5257 - acc: 0.7541\n",
      "Epoch 250/250\n",
      "614/614 [==============================] - 0s 2us/step - loss: 0.5253 - acc: 0.7541\n"
     ]
    }
   ],
   "source": [
    "my_first_nn_fitted = my_first_nn.fit(scaler.transform(X_train), Y_train, epochs=250, batch_size=X_train.shape[0], verbose=1, initial_epoch=0)"
   ]
  },
  {
   "cell_type": "code",
   "execution_count": 15,
   "metadata": {},
   "outputs": [
    {
     "data": {
      "text/plain": [
       "[0.5033793402956678, 0.7922077891114471]"
      ]
     },
     "execution_count": 15,
     "metadata": {},
     "output_type": "execute_result"
    }
   ],
   "source": [
    "my_first_nn.evaluate(scaler.transform(X_test), Y_test, verbose=0)"
   ]
  },
  {
   "cell_type": "code",
   "execution_count": 16,
   "metadata": {},
   "outputs": [
    {
     "name": "stdout",
     "output_type": "stream",
     "text": [
      "             precision    recall  f1-score   support\n",
      "\n",
      "          0       0.83      0.88      0.85       107\n",
      "          1       0.68      0.60      0.64        47\n",
      "\n",
      "avg / total       0.79      0.79      0.79       154\n",
      "\n"
     ]
    }
   ],
   "source": [
    "print(classification_report(Y_test, my_first_nn.predict_classes(scaler.transform(X_test))))"
   ]
  },
  {
   "cell_type": "markdown",
   "metadata": {},
   "source": [
    "### Q1: Is this a good result? How do we evaluate this?\n",
    "### Q2: Is this a valid approach? Where are the problems?¶"
   ]
  },
  {
   "cell_type": "markdown",
   "metadata": {},
   "source": [
    "# A more structured approach"
   ]
  },
  {
   "cell_type": "markdown",
   "metadata": {},
   "source": [
    "## 1) Stopping the training at the \"correct\" time"
   ]
  },
  {
   "cell_type": "markdown",
   "metadata": {},
   "source": [
    "##### Train ALL the epochs !!!"
   ]
  },
  {
   "cell_type": "code",
   "execution_count": 17,
   "metadata": {},
   "outputs": [
    {
     "data": {
      "text/plain": [
       "[0.45557493513280695, 0.8116883093660529]"
      ]
     },
     "execution_count": 17,
     "metadata": {},
     "output_type": "execute_result"
    }
   ],
   "source": [
    "my_second_nn = Sequential() \n",
    "my_second_nn.add(Dense(5, input_dim=8, activation='relu')) \n",
    "my_second_nn.add(Dense(1, activation='sigmoid'))\n",
    "my_second_nn.compile(loss='binary_crossentropy', optimizer='adam', metrics=['accuracy'])\n",
    "\n",
    "my_second_nn_fitted = my_second_nn.fit(scaler.transform(X_train), Y_train, epochs=5000, batch_size=X_train.shape[0],\n",
    "                                       validation_split=0.2, verbose=0, initial_epoch=0)\n",
    "my_second_nn.evaluate(scaler.transform(X_test), Y_test, verbose=0)"
   ]
  },
  {
   "cell_type": "code",
   "execution_count": 18,
   "metadata": {},
   "outputs": [
    {
     "name": "stdout",
     "output_type": "stream",
     "text": [
      "             precision    recall  f1-score   support\n",
      "\n",
      "          0       0.84      0.90      0.87       107\n",
      "          1       0.72      0.62      0.67        47\n",
      "\n",
      "avg / total       0.81      0.81      0.81       154\n",
      "\n"
     ]
    }
   ],
   "source": [
    "print(classification_report(Y_test, my_second_nn.predict_classes(scaler.transform(X_test))))"
   ]
  },
  {
   "cell_type": "markdown",
   "metadata": {},
   "source": [
    "### Q: What is happening?"
   ]
  },
  {
   "cell_type": "code",
   "execution_count": 19,
   "metadata": {},
   "outputs": [
    {
     "data": {
      "image/png": "[encoded data removed]",
      "text/plain": [
       "<Figure size 432x288 with 1 Axes>"
      ]
     },
     "metadata": {},
     "output_type": "display_data"
    }
   ],
   "source": [
    "plt.plot(my_second_nn_fitted.history['acc'])\n",
    "plt.plot(my_second_nn_fitted.history['val_acc'])\n",
    "plt.title('model accuracy')\n",
    "plt.ylabel('accuracy')\n",
    "plt.xlabel('epoch')\n",
    "plt.legend(['train', 'test'], loc='upper left')\n",
    "plt.show()"
   ]
  },
  {
   "cell_type": "code",
   "execution_count": 20,
   "metadata": {},
   "outputs": [
    {
     "data": {
      "image/png": "[encoded data removed]",
      "text/plain": [
       "<Figure size 432x288 with 1 Axes>"
      ]
     },
     "metadata": {},
     "output_type": "display_data"
    }
   ],
   "source": [
    "plt.plot(my_second_nn_fitted.history['loss'])\n",
    "plt.plot(my_second_nn_fitted.history['val_loss'])\n",
    "plt.title('model loss')\n",
    "plt.ylabel('loss')\n",
    "plt.xlabel('epoch')\n",
    "plt.legend(['train', 'test'], loc='upper left')\n",
    "plt.show()"
   ]
  },
  {
   "cell_type": "markdown",
   "metadata": {},
   "source": [
    "#### Excursion: Overfitting"
   ]
  },
  {
   "cell_type": "markdown",
   "metadata": {},
   "source": [
    "##### Setting a Callback for early stopping "
   ]
  },
  {
   "cell_type": "code",
   "execution_count": 23,
   "metadata": {},
   "outputs": [],
   "source": [
    "early_stop_crit = EarlyStopping(monitor='val_loss', min_delta=0, patience=25, verbose=1, mode='auto')"
   ]
  },
  {
   "cell_type": "code",
   "execution_count": 24,
   "metadata": {},
   "outputs": [
    {
     "name": "stdout",
     "output_type": "stream",
     "text": [
      "Epoch 00386: early stopping\n"
     ]
    }
   ],
   "source": [
    "my_third_nn = Sequential() \n",
    "my_third_nn.add(Dense(5, input_dim=8, activation='relu')) \n",
    "my_third_nn.add(Dense(1, activation='sigmoid'))\n",
    "my_third_nn.compile(loss='binary_crossentropy', optimizer='adam', metrics=['accuracy'])\n",
    "\n",
    "my_third_nn_fitted = my_third_nn.fit(scaler.transform(X_train), Y_train, epochs=5000, batch_size=X_train.shape[0],\n",
    "                                          validation_split=0.2, verbose=0, initial_epoch=0,\n",
    "                                          callbacks=[early_stop_crit])"
   ]
  },
  {
   "cell_type": "code",
   "execution_count": 25,
   "metadata": {},
   "outputs": [
    {
     "data": {
      "text/plain": [
       "[0.4392833570381264, 0.8246753223530658]"
      ]
     },
     "execution_count": 25,
     "metadata": {},
     "output_type": "execute_result"
    }
   ],
   "source": [
    "my_third_nn.evaluate(scaler.transform(X_test), Y_test, verbose=0)"
   ]
  },
  {
   "cell_type": "code",
   "execution_count": 26,
   "metadata": {},
   "outputs": [
    {
     "name": "stdout",
     "output_type": "stream",
     "text": [
      "             precision    recall  f1-score   support\n",
      "\n",
      "          0       0.83      0.94      0.88       107\n",
      "          1       0.81      0.55      0.66        47\n",
      "\n",
      "avg / total       0.82      0.82      0.81       154\n",
      "\n"
     ]
    }
   ],
   "source": [
    "print(classification_report(Y_test, my_third_nn.predict_classes(scaler.transform(X_test))))"
   ]
  },
  {
   "cell_type": "code",
   "execution_count": 27,
   "metadata": {
    "scrolled": true
   },
   "outputs": [
    {
     "data": {
      "image/png": "[encoded data removed]",
      "text/plain": [
       "<Figure size 432x288 with 1 Axes>"
      ]
     },
     "metadata": {},
     "output_type": "display_data"
    }
   ],
   "source": [
    "plt.plot(my_third_nn_fitted.history['loss'])\n",
    "plt.plot(my_third_nn_fitted.history['val_loss'])\n",
    "plt.title('model loss')\n",
    "plt.ylabel('loss')\n",
    "plt.xlabel('epoch')\n",
    "plt.legend(['train', 'test'], loc='upper left')\n",
    "plt.show()"
   ]
  },
  {
   "cell_type": "markdown",
   "metadata": {},
   "source": [
    "##### A helpful set up"
   ]
  },
  {
   "cell_type": "code",
   "execution_count": 28,
   "metadata": {},
   "outputs": [],
   "source": [
    "def runNeuroNet(X_train, Y_train, X_test, Y_test, n_neurons, n_epochs, v_split, early_stopping=None):\n",
    "    nn_model = Sequential() \n",
    "    nn_model.add(Dense(n_neurons, input_dim=8, activation='relu')) # hidden layer\n",
    "    nn_model.add(Dense(1, activation='sigmoid')) # output layer\n",
    "    nn_model.compile(loss='binary_crossentropy', optimizer='adam', metrics=['accuracy'])\n",
    "\n",
    "    model_callbacks = []\n",
    "    if early_stopping is not None:\n",
    "        model_callbacks = [early_stopping]\n",
    "    \n",
    "    output = nn_model.fit(X_train, Y_train, epochs=n_epochs, verbose=0, \n",
    "                              batch_size=X_train.shape[0], callbacks=model_callbacks, \n",
    "                              initial_epoch=0, validation_split=v_split).history\n",
    "    test_scores = nn_model.evaluate(X_test, Y_test, verbose=0)\n",
    "    output['test_loss'] = test_scores[0]\n",
    "    output['test_acc'] = test_scores[1]\n",
    "    return output"
   ]
  },
  {
   "cell_type": "markdown",
   "metadata": {},
   "source": [
    "## 2) The \"correct\" number of neurons"
   ]
  },
  {
   "cell_type": "markdown",
   "metadata": {},
   "source": [
    "###### Take ALL the neurons!!!"
   ]
  },
  {
   "cell_type": "code",
   "execution_count": 29,
   "metadata": {},
   "outputs": [],
   "source": [
    "moreNeurons_nn_fitted = runNeuroNet(scaler.transform(X_train), Y_train, scaler.transform(X_test), Y_test, 1000, 500, 0.2)"
   ]
  },
  {
   "cell_type": "code",
   "execution_count": 30,
   "metadata": {},
   "outputs": [
    {
     "data": {
      "text/plain": [
       "0.8051948067429778"
      ]
     },
     "execution_count": 30,
     "metadata": {},
     "output_type": "execute_result"
    }
   ],
   "source": [
    "moreNeurons_nn_fitted['test_acc']"
   ]
  },
  {
   "cell_type": "code",
   "execution_count": 31,
   "metadata": {},
   "outputs": [
    {
     "data": {
      "image/png": "[encoded data removed]",
      "text/plain": [
       "<Figure size 432x288 with 1 Axes>"
      ]
     },
     "metadata": {},
     "output_type": "display_data"
    }
   ],
   "source": [
    "plt.plot(moreNeurons_nn_fitted['acc'])\n",
    "plt.plot(moreNeurons_nn_fitted['val_acc'])\n",
    "plt.title('model accuracy')\n",
    "plt.ylabel('accuracy')\n",
    "plt.xlabel('epoch')\n",
    "plt.legend(['train', 'val', 'test'], loc='upper left')\n",
    "plt.show()"
   ]
  },
  {
   "cell_type": "code",
   "execution_count": 32,
   "metadata": {},
   "outputs": [
    {
     "data": {
      "image/png": "[encoded data removed]",
      "text/plain": [
       "<Figure size 432x288 with 1 Axes>"
      ]
     },
     "metadata": {},
     "output_type": "display_data"
    }
   ],
   "source": [
    "plt.plot(moreNeurons_nn_fitted['loss'])\n",
    "plt.plot(moreNeurons_nn_fitted['val_loss'])\n",
    "plt.title('model loss')\n",
    "plt.ylabel('loss')\n",
    "plt.xlabel('epoch')\n",
    "plt.legend(['train', 'test'], loc='upper left')\n",
    "plt.show()"
   ]
  },
  {
   "cell_type": "markdown",
   "metadata": {},
   "source": [
    "### Q: What is happening?"
   ]
  },
  {
   "cell_type": "markdown",
   "metadata": {},
   "source": [
    "###### Use early stopping"
   ]
  },
  {
   "cell_type": "code",
   "execution_count": 33,
   "metadata": {},
   "outputs": [
    {
     "name": "stdout",
     "output_type": "stream",
     "text": [
      "Epoch 00059: early stopping\n"
     ]
    }
   ],
   "source": [
    "moreNeurons_nn_fitted = runNeuroNet(scaler.transform(X_train), Y_train, scaler.transform(X_test), Y_test, 1000, 500, 0.2, early_stop_crit)"
   ]
  },
  {
   "cell_type": "code",
   "execution_count": 34,
   "metadata": {},
   "outputs": [
    {
     "data": {
      "text/plain": [
       "0.844155846478103"
      ]
     },
     "execution_count": 34,
     "metadata": {},
     "output_type": "execute_result"
    }
   ],
   "source": [
    "moreNeurons_nn_fitted['test_acc']"
   ]
  },
  {
   "cell_type": "markdown",
   "metadata": {},
   "source": [
    "## Hyperparameter: Find the \"correct\" number of neurons"
   ]
  },
  {
   "cell_type": "markdown",
   "metadata": {},
   "source": [
    "##### Grid Search"
   ]
  },
  {
   "cell_type": "code",
   "execution_count": 36,
   "metadata": {},
   "outputs": [
    {
     "name": "stdout",
     "output_type": "stream",
     "text": [
      "1\n",
      "5\n",
      "Epoch 00925: early stopping\n",
      "10\n",
      "Epoch 00336: early stopping\n",
      "15\n",
      "Epoch 00292: early stopping\n",
      "20\n",
      "Epoch 00199: early stopping\n",
      "25\n",
      "Epoch 00264: early stopping\n",
      "30\n",
      "Epoch 00180: early stopping\n",
      "35\n",
      "Epoch 00207: early stopping\n",
      "40\n",
      "Epoch 00219: early stopping\n",
      "45\n",
      "Epoch 00211: early stopping\n",
      "50\n",
      "Epoch 00163: early stopping\n"
     ]
    }
   ],
   "source": [
    "my_grid=[1,5,10,15,20,25,30,35,40,45,50]\n",
    "nn_accuracies = []\n",
    "nn_accuracies_early = []\n",
    "nn_losses = []\n",
    "nn_losses_early = []\n",
    "early_stop_crit = EarlyStopping(monitor='val_loss', min_delta=0, patience=20, verbose=1, mode='auto')\n",
    "for i in my_grid:\n",
    "    print(i)\n",
    "    \n",
    "    nn_output = runNeuroNet(scaler.transform(X_train), Y_train, scaler.transform(X_test), Y_test, i, 1000, 0.2)\n",
    "    nn_output_early = runNeuroNet(scaler.transform(X_train), Y_train, scaler.transform(X_test), Y_test, i, 1000, 0.2, early_stop_crit)\n",
    "    \n",
    "    nn_accuracies.append([i, nn_output['acc'][-1], nn_output['val_acc'][-1], nn_output['test_acc']])\n",
    "    nn_accuracies_early.append([i, nn_output_early['acc'][-1], nn_output_early['val_acc'][-1], nn_output_early['test_acc']])\n",
    "    nn_losses.append([i, nn_output['loss'][-1], nn_output['val_loss'][-1], nn_output['test_loss']])\n",
    "    nn_losses_early.append([i, nn_output_early['loss'][-1], nn_output_early['val_loss'][-1], nn_output_early['test_loss']])"
   ]
  },
  {
   "cell_type": "code",
   "execution_count": 37,
   "metadata": {},
   "outputs": [],
   "source": [
    "nn_accuracies = np.array(nn_accuracies)\n",
    "nn_accuracies_early = np.array(nn_accuracies_early)\n",
    "nn_losses = np.array(nn_losses)\n",
    "nn_losses_early = np.array(nn_losses_early)"
   ]
  },
  {
   "cell_type": "code",
   "execution_count": 38,
   "metadata": {},
   "outputs": [
    {
     "name": "stdout",
     "output_type": "stream",
     "text": [
      "[[ 1.          0.51093137  0.56086814  0.46520648]\n",
      " [ 5.          0.43853092  0.49625269  0.42147028]\n",
      " [10.          0.42625695  0.54096735  0.40252569]\n",
      " [15.          0.41009676  0.50088042  0.41589546]\n",
      " [20.          0.37649295  0.59210271  0.40617258]\n",
      " [25.          0.36000657  0.65508854  0.38421399]\n",
      " [30.          0.36013427  0.58076084  0.41128261]\n",
      " [35.          0.34132862  0.61974823  0.43288007]\n",
      " [40.          0.32073569  0.66238892  0.40081104]\n",
      " [45.          0.34947473  0.64390093  0.39945401]\n",
      " [50.          0.30882961  0.61582637  0.41307104]]\n"
     ]
    }
   ],
   "source": [
    "print(nn_losses)"
   ]
  },
  {
   "cell_type": "code",
   "execution_count": 39,
   "metadata": {},
   "outputs": [
    {
     "name": "stdout",
     "output_type": "stream",
     "text": [
      "[[ 1.          0.49910045  0.56028068  0.44590174]\n",
      " [ 5.          0.45714772  0.50995052  0.42702983]\n",
      " [10.          0.45314056  0.51215416  0.41427501]\n",
      " [15.          0.46273541  0.51794827  0.41982197]\n",
      " [20.          0.45963237  0.50845724  0.435144  ]\n",
      " [25.          0.44583535  0.52607286  0.43912917]\n",
      " [30.          0.46040687  0.49182543  0.45791591]\n",
      " [35.          0.45686755  0.48698428  0.42425106]\n",
      " [40.          0.44689167  0.49391454  0.41111858]\n",
      " [45.          0.44142917  0.49331427  0.41365625]\n",
      " [50.          0.44401908  0.48920971  0.41795078]]\n"
     ]
    }
   ],
   "source": [
    "print(nn_losses_early)"
   ]
  },
  {
   "cell_type": "markdown",
   "metadata": {},
   "source": [
    "### Q: Do we trust these results?"
   ]
  },
  {
   "cell_type": "markdown",
   "metadata": {},
   "source": [
    "##### Cross Validation"
   ]
  },
  {
   "cell_type": "code",
   "execution_count": null,
   "metadata": {
    "scrolled": true
   },
   "outputs": [],
   "source": [
    "kfold = StratifiedKFold(n_splits=5, shuffle=True)\n",
    "all_kfold_results=[]\n",
    "for grid_val in my_grid:\n",
    "    kfold_results = []\n",
    "    print(grid_val)\n",
    "    for train_set, valid_set in kfold.split(X_train, Y_train):\n",
    "        x_train_temp = X_train.iloc[train_set,:]\n",
    "        sc_temp = StandardScaler()\n",
    "        sc_temp.fit(x_train_temp)\n",
    "        temp_result = runNeuroNet(sc_temp.transform(x_train_temp), Y_train.iloc[train_set], \n",
    "                                  sc_temp.transform(X_train.iloc[valid_set,:]), Y_train.iloc[valid_set],\n",
    "                                  grid_val, 1000,  0.2, early_stop_crit)\n",
    "        kfold_results.append(temp_result['test_loss'])\n",
    "    all_kfold_results.append(kfold_results)\n",
    "    "
   ]
  },
  {
   "cell_type": "code",
   "execution_count": null,
   "metadata": {
    "scrolled": true
   },
   "outputs": [],
   "source": [
    "all_kfold_results\n"
   ]
  },
  {
   "cell_type": "code",
   "execution_count": null,
   "metadata": {},
   "outputs": [],
   "source": [
    "np.mean(all_kfold_results,axis=1)"
   ]
  },
  {
   "cell_type": "code",
   "execution_count": null,
   "metadata": {},
   "outputs": [],
   "source": [
    "idx = np.argmin(np.mean(all_kfold_results,axis=1))\n",
    "print(\"The optimal number of neurons is: \", my_grid[idx])"
   ]
  },
  {
   "cell_type": "markdown",
   "metadata": {},
   "source": [
    "### Q: Do we trust these results?"
   ]
  },
  {
   "cell_type": "markdown",
   "metadata": {},
   "source": [
    "##### Even more cross validation"
   ]
  },
  {
   "cell_type": "code",
   "execution_count": null,
   "metadata": {
    "scrolled": true
   },
   "outputs": [],
   "source": [
    "rkf = RepeatedStratifiedKFold(n_splits=5, n_repeats=3)\n",
    "all_rkfold_results = []\n",
    "for grid_val in my_grid:\n",
    "    rkfold_results = []\n",
    "    print(grid_val)\n",
    "    for train_set, valid_set in rkf.split(X_train, Y_train):\n",
    "        x_train_temp = X_train.iloc[train_set,:]\n",
    "        sc_temp = StandardScaler()\n",
    "        sc_temp.fit(x_train_temp)\n",
    "        temp_result = runNeuroNet(sc_temp.transform(x_train_temp), Y_train.iloc[train_set], \n",
    "                                  sc_temp.transform(X_train.iloc[valid_set,:]), Y_train.iloc[valid_set],\n",
    "                                  grid_val, 1000,  0.2, early_stop_crit)\n",
    "        rkfold_results.append(temp_result['test_loss'])\n",
    "    all_rkfold_results.append(rkfold_results)"
   ]
  },
  {
   "cell_type": "code",
   "execution_count": null,
   "metadata": {},
   "outputs": [],
   "source": [
    "idx = np.argmin(np.mean(all_rkfold_results,axis=1))\n",
    "print(\"The optimal number of neurons is: \", my_grid[idx])"
   ]
  },
  {
   "cell_type": "markdown",
   "metadata": {},
   "source": [
    "## The \"optimal\" model"
   ]
  },
  {
   "cell_type": "code",
   "execution_count": 40,
   "metadata": {},
   "outputs": [
    {
     "name": "stdout",
     "output_type": "stream",
     "text": [
      "Train on 552 samples, validate on 62 samples\n",
      "Epoch 1/5000\n",
      "552/552 [==============================] - 1s 1ms/step - loss: 0.6372 - acc: 0.6775 - val_loss: 0.6636 - val_acc: 0.6452\n",
      "Epoch 2/5000\n",
      "552/552 [==============================] - 0s 5us/step - loss: 0.6323 - acc: 0.6721 - val_loss: 0.6603 - val_acc: 0.6613\n",
      "Epoch 3/5000\n",
      "552/552 [==============================] - 0s 6us/step - loss: 0.6275 - acc: 0.6739 - val_loss: 0.6571 - val_acc: 0.6613\n",
      "Epoch 4/5000\n",
      "552/552 [==============================] - 0s 7us/step - loss: 0.6228 - acc: 0.6812 - val_loss: 0.6540 - val_acc: 0.6613\n",
      "Epoch 5/5000\n",
      "552/552 [==============================] - 0s 7us/step - loss: 0.6183 - acc: 0.6866 - val_loss: 0.6510 - val_acc: 0.6452\n",
      "Epoch 6/5000\n",
      "552/552 [==============================] - 0s 6us/step - loss: 0.6139 - acc: 0.6866 - val_loss: 0.6480 - val_acc: 0.6290\n",
      "Epoch 7/5000\n",
      "552/552 [==============================] - 0s 5us/step - loss: 0.6096 - acc: 0.6830 - val_loss: 0.6452 - val_acc: 0.6290\n",
      "Epoch 8/5000\n",
      "552/552 [==============================] - 0s 5us/step - loss: 0.6055 - acc: 0.6848 - val_loss: 0.6425 - val_acc: 0.6129\n",
      "Epoch 9/5000\n",
      "552/552 [==============================] - 0s 5us/step - loss: 0.6015 - acc: 0.6866 - val_loss: 0.6398 - val_acc: 0.5968\n",
      "Epoch 10/5000\n",
      "552/552 [==============================] - 0s 6us/step - loss: 0.5976 - acc: 0.6866 - val_loss: 0.6372 - val_acc: 0.5968\n",
      "Epoch 11/5000\n",
      "552/552 [==============================] - 0s 7us/step - loss: 0.5939 - acc: 0.6920 - val_loss: 0.6346 - val_acc: 0.5968\n",
      "Epoch 12/5000\n",
      "552/552 [==============================] - 0s 6us/step - loss: 0.5902 - acc: 0.6938 - val_loss: 0.6322 - val_acc: 0.5968\n",
      "Epoch 13/5000\n",
      "552/552 [==============================] - 0s 7us/step - loss: 0.5867 - acc: 0.6957 - val_loss: 0.6298 - val_acc: 0.5968\n",
      "Epoch 14/5000\n",
      "552/552 [==============================] - 0s 6us/step - loss: 0.5834 - acc: 0.6938 - val_loss: 0.6275 - val_acc: 0.5968\n",
      "Epoch 15/5000\n",
      "552/552 [==============================] - 0s 6us/step - loss: 0.5801 - acc: 0.6957 - val_loss: 0.6253 - val_acc: 0.5968\n",
      "Epoch 16/5000\n",
      "552/552 [==============================] - 0s 5us/step - loss: 0.5769 - acc: 0.7065 - val_loss: 0.6231 - val_acc: 0.5968\n",
      "Epoch 17/5000\n",
      "552/552 [==============================] - 0s 5us/step - loss: 0.5739 - acc: 0.7083 - val_loss: 0.6210 - val_acc: 0.6290\n",
      "Epoch 18/5000\n",
      "552/552 [==============================] - 0s 6us/step - loss: 0.5710 - acc: 0.7156 - val_loss: 0.6190 - val_acc: 0.6129\n",
      "Epoch 19/5000\n",
      "552/552 [==============================] - 0s 8us/step - loss: 0.5681 - acc: 0.7210 - val_loss: 0.6170 - val_acc: 0.6129\n",
      "Epoch 20/5000\n",
      "552/552 [==============================] - 0s 7us/step - loss: 0.5653 - acc: 0.7174 - val_loss: 0.6150 - val_acc: 0.6129\n",
      "Epoch 21/5000\n",
      "552/552 [==============================] - 0s 8us/step - loss: 0.5627 - acc: 0.7174 - val_loss: 0.6131 - val_acc: 0.6129\n",
      "Epoch 22/5000\n",
      "552/552 [==============================] - 0s 5us/step - loss: 0.5601 - acc: 0.7174 - val_loss: 0.6113 - val_acc: 0.6129\n",
      "Epoch 23/5000\n",
      "552/552 [==============================] - 0s 5us/step - loss: 0.5576 - acc: 0.7174 - val_loss: 0.6095 - val_acc: 0.6129\n",
      "Epoch 24/5000\n",
      "552/552 [==============================] - 0s 6us/step - loss: 0.5552 - acc: 0.7174 - val_loss: 0.6077 - val_acc: 0.6129\n",
      "Epoch 25/5000\n",
      "552/552 [==============================] - 0s 5us/step - loss: 0.5528 - acc: 0.7210 - val_loss: 0.6059 - val_acc: 0.6129\n",
      "Epoch 26/5000\n",
      "552/552 [==============================] - 0s 6us/step - loss: 0.5505 - acc: 0.7210 - val_loss: 0.6042 - val_acc: 0.6129\n",
      "Epoch 27/5000\n",
      "552/552 [==============================] - 0s 7us/step - loss: 0.5483 - acc: 0.7192 - val_loss: 0.6025 - val_acc: 0.6129\n",
      "Epoch 28/5000\n",
      "552/552 [==============================] - 0s 7us/step - loss: 0.5461 - acc: 0.7246 - val_loss: 0.6009 - val_acc: 0.6129\n",
      "Epoch 29/5000\n",
      "552/552 [==============================] - 0s 7us/step - loss: 0.5440 - acc: 0.7210 - val_loss: 0.5993 - val_acc: 0.6129\n",
      "Epoch 30/5000\n",
      "552/552 [==============================] - 0s 6us/step - loss: 0.5420 - acc: 0.7210 - val_loss: 0.5977 - val_acc: 0.6129\n",
      "Epoch 31/5000\n",
      "552/552 [==============================] - 0s 6us/step - loss: 0.5400 - acc: 0.7228 - val_loss: 0.5962 - val_acc: 0.6129\n",
      "Epoch 32/5000\n",
      "552/552 [==============================] - 0s 6us/step - loss: 0.5381 - acc: 0.7246 - val_loss: 0.5946 - val_acc: 0.6129\n",
      "Epoch 33/5000\n",
      "552/552 [==============================] - 0s 5us/step - loss: 0.5362 - acc: 0.7264 - val_loss: 0.5931 - val_acc: 0.6129\n",
      "Epoch 34/5000\n",
      "552/552 [==============================] - 0s 5us/step - loss: 0.5344 - acc: 0.7319 - val_loss: 0.5916 - val_acc: 0.6129\n",
      "Epoch 35/5000\n",
      "552/552 [==============================] - 0s 6us/step - loss: 0.5326 - acc: 0.7355 - val_loss: 0.5902 - val_acc: 0.6129\n",
      "Epoch 36/5000\n",
      "552/552 [==============================] - 0s 6us/step - loss: 0.5309 - acc: 0.7373 - val_loss: 0.5888 - val_acc: 0.6129\n",
      "Epoch 37/5000\n",
      "552/552 [==============================] - 0s 8us/step - loss: 0.5292 - acc: 0.7391 - val_loss: 0.5874 - val_acc: 0.5968\n",
      "Epoch 38/5000\n",
      "552/552 [==============================] - 0s 6us/step - loss: 0.5275 - acc: 0.7409 - val_loss: 0.5861 - val_acc: 0.5968\n",
      "Epoch 39/5000\n",
      "552/552 [==============================] - 0s 6us/step - loss: 0.5259 - acc: 0.7409 - val_loss: 0.5847 - val_acc: 0.5968\n",
      "Epoch 40/5000\n",
      "552/552 [==============================] - 0s 6us/step - loss: 0.5243 - acc: 0.7391 - val_loss: 0.5834 - val_acc: 0.5968\n",
      "Epoch 41/5000\n",
      "552/552 [==============================] - 0s 5us/step - loss: 0.5228 - acc: 0.7391 - val_loss: 0.5821 - val_acc: 0.6129\n",
      "Epoch 42/5000\n",
      "552/552 [==============================] - 0s 5us/step - loss: 0.5212 - acc: 0.7373 - val_loss: 0.5809 - val_acc: 0.6129\n",
      "Epoch 43/5000\n",
      "552/552 [==============================] - 0s 6us/step - loss: 0.5198 - acc: 0.7391 - val_loss: 0.5797 - val_acc: 0.6129\n",
      "Epoch 44/5000\n",
      "552/552 [==============================] - 0s 5us/step - loss: 0.5183 - acc: 0.7409 - val_loss: 0.5785 - val_acc: 0.6290\n",
      "Epoch 45/5000\n",
      "552/552 [==============================] - 0s 5us/step - loss: 0.5169 - acc: 0.7428 - val_loss: 0.5773 - val_acc: 0.6290\n",
      "Epoch 46/5000\n",
      "552/552 [==============================] - 0s 7us/step - loss: 0.5155 - acc: 0.7428 - val_loss: 0.5762 - val_acc: 0.6129\n",
      "Epoch 47/5000\n",
      "552/552 [==============================] - 0s 7us/step - loss: 0.5142 - acc: 0.7428 - val_loss: 0.5750 - val_acc: 0.6129\n",
      "Epoch 48/5000\n",
      "552/552 [==============================] - 0s 9us/step - loss: 0.5129 - acc: 0.7446 - val_loss: 0.5739 - val_acc: 0.6129\n",
      "Epoch 49/5000\n",
      "552/552 [==============================] - 0s 7us/step - loss: 0.5116 - acc: 0.7464 - val_loss: 0.5729 - val_acc: 0.6129\n",
      "Epoch 50/5000\n",
      "552/552 [==============================] - 0s 6us/step - loss: 0.5103 - acc: 0.7482 - val_loss: 0.5718 - val_acc: 0.6129\n",
      "Epoch 51/5000\n",
      "552/552 [==============================] - 0s 6us/step - loss: 0.5091 - acc: 0.7518 - val_loss: 0.5708 - val_acc: 0.6129\n",
      "Epoch 52/5000\n",
      "552/552 [==============================] - 0s 6us/step - loss: 0.5079 - acc: 0.7536 - val_loss: 0.5697 - val_acc: 0.6129\n",
      "Epoch 53/5000\n",
      "552/552 [==============================] - 0s 6us/step - loss: 0.5067 - acc: 0.7572 - val_loss: 0.5687 - val_acc: 0.6129\n",
      "Epoch 54/5000\n",
      "552/552 [==============================] - 0s 6us/step - loss: 0.5055 - acc: 0.7554 - val_loss: 0.5678 - val_acc: 0.6290\n",
      "Epoch 55/5000\n",
      "552/552 [==============================] - 0s 6us/step - loss: 0.5044 - acc: 0.7572 - val_loss: 0.5668 - val_acc: 0.6290\n",
      "Epoch 56/5000\n",
      "552/552 [==============================] - 0s 5us/step - loss: 0.5033 - acc: 0.7554 - val_loss: 0.5659 - val_acc: 0.6290\n",
      "Epoch 57/5000\n",
      "552/552 [==============================] - 0s 6us/step - loss: 0.5022 - acc: 0.7554 - val_loss: 0.5650 - val_acc: 0.6452\n",
      "Epoch 58/5000\n",
      "552/552 [==============================] - 0s 6us/step - loss: 0.5012 - acc: 0.7554 - val_loss: 0.5641 - val_acc: 0.6613\n",
      "Epoch 59/5000\n",
      "552/552 [==============================] - 0s 8us/step - loss: 0.5002 - acc: 0.7554 - val_loss: 0.5633 - val_acc: 0.6613\n",
      "Epoch 60/5000\n",
      "552/552 [==============================] - 0s 8us/step - loss: 0.4991 - acc: 0.7554 - val_loss: 0.5624 - val_acc: 0.6774\n",
      "Epoch 61/5000\n",
      "552/552 [==============================] - 0s 10us/step - loss: 0.4982 - acc: 0.7572 - val_loss: 0.5616 - val_acc: 0.6774\n",
      "Epoch 62/5000\n",
      "552/552 [==============================] - 0s 9us/step - loss: 0.4972 - acc: 0.7591 - val_loss: 0.5608 - val_acc: 0.6774\n",
      "Epoch 63/5000\n",
      "552/552 [==============================] - 0s 7us/step - loss: 0.4962 - acc: 0.7572 - val_loss: 0.5601 - val_acc: 0.6774\n",
      "Epoch 64/5000\n",
      "552/552 [==============================] - 0s 8us/step - loss: 0.4953 - acc: 0.7572 - val_loss: 0.5593 - val_acc: 0.6774\n",
      "Epoch 65/5000\n",
      "552/552 [==============================] - 0s 8us/step - loss: 0.4944 - acc: 0.7572 - val_loss: 0.5586 - val_acc: 0.6774\n",
      "Epoch 66/5000\n",
      "552/552 [==============================] - 0s 8us/step - loss: 0.4935 - acc: 0.7572 - val_loss: 0.5579 - val_acc: 0.6774\n",
      "Epoch 67/5000\n",
      "552/552 [==============================] - 0s 6us/step - loss: 0.4926 - acc: 0.7609 - val_loss: 0.5573 - val_acc: 0.6774\n",
      "Epoch 68/5000\n",
      "552/552 [==============================] - 0s 7us/step - loss: 0.4918 - acc: 0.7645 - val_loss: 0.5566 - val_acc: 0.6774\n",
      "Epoch 69/5000\n",
      "552/552 [==============================] - 0s 6us/step - loss: 0.4909 - acc: 0.7645 - val_loss: 0.5560 - val_acc: 0.6935\n",
      "Epoch 70/5000\n",
      "552/552 [==============================] - 0s 7us/step - loss: 0.4901 - acc: 0.7627 - val_loss: 0.5553 - val_acc: 0.6935\n",
      "Epoch 71/5000\n",
      "552/552 [==============================] - 0s 7us/step - loss: 0.4893 - acc: 0.7645 - val_loss: 0.5547 - val_acc: 0.6935\n",
      "Epoch 72/5000\n",
      "552/552 [==============================] - 0s 9us/step - loss: 0.4885 - acc: 0.7645 - val_loss: 0.5541 - val_acc: 0.7097\n",
      "Epoch 73/5000\n",
      "552/552 [==============================] - 0s 5us/step - loss: 0.4877 - acc: 0.7681 - val_loss: 0.5536 - val_acc: 0.7097\n",
      "Epoch 74/5000\n",
      "552/552 [==============================] - 0s 7us/step - loss: 0.4870 - acc: 0.7681 - val_loss: 0.5530 - val_acc: 0.7097\n",
      "Epoch 75/5000\n",
      "552/552 [==============================] - 0s 7us/step - loss: 0.4862 - acc: 0.7717 - val_loss: 0.5525 - val_acc: 0.7097\n",
      "Epoch 76/5000\n",
      "552/552 [==============================] - 0s 7us/step - loss: 0.4855 - acc: 0.7736 - val_loss: 0.5520 - val_acc: 0.7097\n",
      "Epoch 77/5000\n",
      "552/552 [==============================] - 0s 8us/step - loss: 0.4847 - acc: 0.7736 - val_loss: 0.5515 - val_acc: 0.7097\n",
      "Epoch 78/5000\n",
      "552/552 [==============================] - 0s 8us/step - loss: 0.4840 - acc: 0.7736 - val_loss: 0.5510 - val_acc: 0.7097\n",
      "Epoch 79/5000\n",
      "552/552 [==============================] - 0s 8us/step - loss: 0.4833 - acc: 0.7717 - val_loss: 0.5505 - val_acc: 0.7097\n",
      "Epoch 80/5000\n",
      "552/552 [==============================] - 0s 7us/step - loss: 0.4826 - acc: 0.7681 - val_loss: 0.5500 - val_acc: 0.7097\n",
      "Epoch 81/5000\n",
      "552/552 [==============================] - 0s 8us/step - loss: 0.4819 - acc: 0.7681 - val_loss: 0.5496 - val_acc: 0.7097\n",
      "Epoch 82/5000\n",
      "552/552 [==============================] - 0s 7us/step - loss: 0.4813 - acc: 0.7681 - val_loss: 0.5491 - val_acc: 0.7097\n",
      "Epoch 83/5000\n",
      "552/552 [==============================] - 0s 9us/step - loss: 0.4806 - acc: 0.7681 - val_loss: 0.5486 - val_acc: 0.7097\n",
      "Epoch 84/5000\n",
      "552/552 [==============================] - 0s 10us/step - loss: 0.4800 - acc: 0.7699 - val_loss: 0.5482 - val_acc: 0.7097\n",
      "Epoch 85/5000\n",
      "552/552 [==============================] - 0s 7us/step - loss: 0.4793 - acc: 0.7699 - val_loss: 0.5477 - val_acc: 0.7097\n",
      "Epoch 86/5000\n",
      "552/552 [==============================] - 0s 6us/step - loss: 0.4787 - acc: 0.7681 - val_loss: 0.5473 - val_acc: 0.7097\n",
      "Epoch 87/5000\n",
      "552/552 [==============================] - 0s 6us/step - loss: 0.4781 - acc: 0.7681 - val_loss: 0.5469 - val_acc: 0.7097\n",
      "Epoch 88/5000\n",
      "552/552 [==============================] - 0s 7us/step - loss: 0.4775 - acc: 0.7663 - val_loss: 0.5464 - val_acc: 0.7097\n",
      "Epoch 89/5000\n",
      "552/552 [==============================] - 0s 8us/step - loss: 0.4769 - acc: 0.7681 - val_loss: 0.5460 - val_acc: 0.7097\n",
      "Epoch 90/5000\n",
      "552/552 [==============================] - 0s 7us/step - loss: 0.4763 - acc: 0.7699 - val_loss: 0.5456 - val_acc: 0.7097\n",
      "Epoch 91/5000\n",
      "552/552 [==============================] - 0s 6us/step - loss: 0.4757 - acc: 0.7736 - val_loss: 0.5452 - val_acc: 0.7097\n",
      "Epoch 92/5000\n",
      "552/552 [==============================] - 0s 5us/step - loss: 0.4752 - acc: 0.7754 - val_loss: 0.5448 - val_acc: 0.7097\n",
      "Epoch 93/5000\n",
      "552/552 [==============================] - 0s 6us/step - loss: 0.4746 - acc: 0.7754 - val_loss: 0.5444 - val_acc: 0.7097\n",
      "Epoch 94/5000\n",
      "552/552 [==============================] - 0s 6us/step - loss: 0.4741 - acc: 0.7736 - val_loss: 0.5440 - val_acc: 0.7097\n",
      "Epoch 95/5000\n",
      "552/552 [==============================] - 0s 8us/step - loss: 0.4735 - acc: 0.7736 - val_loss: 0.5436 - val_acc: 0.7097\n",
      "Epoch 96/5000\n",
      "552/552 [==============================] - 0s 8us/step - loss: 0.4730 - acc: 0.7736 - val_loss: 0.5432 - val_acc: 0.7097\n",
      "Epoch 97/5000\n",
      "552/552 [==============================] - 0s 6us/step - loss: 0.4725 - acc: 0.7736 - val_loss: 0.5428 - val_acc: 0.7097\n",
      "Epoch 98/5000\n",
      "552/552 [==============================] - 0s 8us/step - loss: 0.4720 - acc: 0.7736 - val_loss: 0.5424 - val_acc: 0.7097\n",
      "Epoch 99/5000\n",
      "552/552 [==============================] - 0s 7us/step - loss: 0.4715 - acc: 0.7754 - val_loss: 0.5420 - val_acc: 0.7097\n",
      "Epoch 100/5000\n",
      "552/552 [==============================] - 0s 6us/step - loss: 0.4710 - acc: 0.7754 - val_loss: 0.5416 - val_acc: 0.7097\n",
      "Epoch 101/5000\n",
      "552/552 [==============================] - 0s 7us/step - loss: 0.4705 - acc: 0.7754 - val_loss: 0.5413 - val_acc: 0.7097\n",
      "Epoch 102/5000\n",
      "552/552 [==============================] - 0s 8us/step - loss: 0.4700 - acc: 0.7790 - val_loss: 0.5409 - val_acc: 0.7258\n",
      "Epoch 103/5000\n",
      "552/552 [==============================] - 0s 6us/step - loss: 0.4695 - acc: 0.7772 - val_loss: 0.5405 - val_acc: 0.7258\n",
      "Epoch 104/5000\n",
      "552/552 [==============================] - 0s 6us/step - loss: 0.4691 - acc: 0.7790 - val_loss: 0.5402 - val_acc: 0.7258\n",
      "Epoch 105/5000\n",
      "552/552 [==============================] - 0s 6us/step - loss: 0.4686 - acc: 0.7790 - val_loss: 0.5398 - val_acc: 0.7258\n",
      "Epoch 106/5000\n",
      "552/552 [==============================] - 0s 7us/step - loss: 0.4681 - acc: 0.7808 - val_loss: 0.5395 - val_acc: 0.7258\n",
      "Epoch 107/5000\n",
      "552/552 [==============================] - 0s 7us/step - loss: 0.4677 - acc: 0.7826 - val_loss: 0.5391 - val_acc: 0.7258\n",
      "Epoch 108/5000\n",
      "552/552 [==============================] - 0s 8us/step - loss: 0.4672 - acc: 0.7826 - val_loss: 0.5388 - val_acc: 0.7258\n",
      "Epoch 109/5000\n",
      "552/552 [==============================] - 0s 7us/step - loss: 0.4668 - acc: 0.7826 - val_loss: 0.5385 - val_acc: 0.7258\n",
      "Epoch 110/5000\n",
      "552/552 [==============================] - 0s 7us/step - loss: 0.4664 - acc: 0.7808 - val_loss: 0.5381 - val_acc: 0.7258\n",
      "Epoch 111/5000\n",
      "552/552 [==============================] - 0s 5us/step - loss: 0.4659 - acc: 0.7808 - val_loss: 0.5378 - val_acc: 0.7258\n",
      "Epoch 112/5000\n",
      "552/552 [==============================] - 0s 7us/step - loss: 0.4655 - acc: 0.7808 - val_loss: 0.5375 - val_acc: 0.7258\n",
      "Epoch 113/5000\n",
      "552/552 [==============================] - 0s 5us/step - loss: 0.4651 - acc: 0.7772 - val_loss: 0.5372 - val_acc: 0.7258\n",
      "Epoch 114/5000\n",
      "552/552 [==============================] - 0s 6us/step - loss: 0.4647 - acc: 0.7772 - val_loss: 0.5369 - val_acc: 0.7258\n",
      "Epoch 115/5000\n",
      "552/552 [==============================] - 0s 7us/step - loss: 0.4643 - acc: 0.7772 - val_loss: 0.5366 - val_acc: 0.7258\n",
      "Epoch 116/5000\n",
      "552/552 [==============================] - 0s 7us/step - loss: 0.4639 - acc: 0.7772 - val_loss: 0.5363 - val_acc: 0.7258\n",
      "Epoch 117/5000\n",
      "552/552 [==============================] - 0s 7us/step - loss: 0.4635 - acc: 0.7754 - val_loss: 0.5361 - val_acc: 0.7258\n",
      "Epoch 118/5000\n",
      "552/552 [==============================] - 0s 5us/step - loss: 0.4631 - acc: 0.7772 - val_loss: 0.5358 - val_acc: 0.7258\n",
      "Epoch 119/5000\n",
      "552/552 [==============================] - 0s 6us/step - loss: 0.4627 - acc: 0.7772 - val_loss: 0.5355 - val_acc: 0.7258\n",
      "Epoch 120/5000\n",
      "552/552 [==============================] - 0s 6us/step - loss: 0.4623 - acc: 0.7790 - val_loss: 0.5353 - val_acc: 0.7258\n",
      "Epoch 121/5000\n",
      "552/552 [==============================] - 0s 5us/step - loss: 0.4619 - acc: 0.7790 - val_loss: 0.5350 - val_acc: 0.7258\n",
      "Epoch 122/5000\n",
      "552/552 [==============================] - 0s 6us/step - loss: 0.4615 - acc: 0.7790 - val_loss: 0.5348 - val_acc: 0.7258\n",
      "Epoch 123/5000\n",
      "552/552 [==============================] - 0s 7us/step - loss: 0.4611 - acc: 0.7790 - val_loss: 0.5346 - val_acc: 0.7258\n",
      "Epoch 124/5000\n",
      "552/552 [==============================] - 0s 7us/step - loss: 0.4608 - acc: 0.7790 - val_loss: 0.5343 - val_acc: 0.7258\n",
      "Epoch 125/5000\n",
      "552/552 [==============================] - 0s 6us/step - loss: 0.4604 - acc: 0.7808 - val_loss: 0.5341 - val_acc: 0.7258\n",
      "Epoch 126/5000\n",
      "552/552 [==============================] - 0s 5us/step - loss: 0.4600 - acc: 0.7808 - val_loss: 0.5339 - val_acc: 0.7258\n",
      "Epoch 127/5000\n",
      "552/552 [==============================] - 0s 7us/step - loss: 0.4597 - acc: 0.7808 - val_loss: 0.5336 - val_acc: 0.7258\n",
      "Epoch 128/5000\n",
      "552/552 [==============================] - 0s 7us/step - loss: 0.4593 - acc: 0.7808 - val_loss: 0.5334 - val_acc: 0.7258\n",
      "Epoch 129/5000\n",
      "552/552 [==============================] - 0s 5us/step - loss: 0.4590 - acc: 0.7808 - val_loss: 0.5332 - val_acc: 0.7258\n",
      "Epoch 130/5000\n",
      "552/552 [==============================] - 0s 7us/step - loss: 0.4586 - acc: 0.7808 - val_loss: 0.5330 - val_acc: 0.7258\n",
      "Epoch 131/5000\n",
      "552/552 [==============================] - 0s 6us/step - loss: 0.4583 - acc: 0.7808 - val_loss: 0.5328 - val_acc: 0.7258\n",
      "Epoch 132/5000\n",
      "552/552 [==============================] - 0s 5us/step - loss: 0.4579 - acc: 0.7826 - val_loss: 0.5326 - val_acc: 0.7258\n",
      "Epoch 133/5000\n",
      "552/552 [==============================] - 0s 6us/step - loss: 0.4576 - acc: 0.7826 - val_loss: 0.5324 - val_acc: 0.7258\n",
      "Epoch 134/5000\n",
      "552/552 [==============================] - 0s 8us/step - loss: 0.4572 - acc: 0.7826 - val_loss: 0.5322 - val_acc: 0.7258\n",
      "Epoch 135/5000\n",
      "552/552 [==============================] - 0s 7us/step - loss: 0.4569 - acc: 0.7826 - val_loss: 0.5320 - val_acc: 0.7258\n",
      "Epoch 136/5000\n",
      "552/552 [==============================] - 0s 7us/step - loss: 0.4566 - acc: 0.7826 - val_loss: 0.5318 - val_acc: 0.7258\n",
      "Epoch 137/5000\n",
      "552/552 [==============================] - 0s 7us/step - loss: 0.4563 - acc: 0.7826 - val_loss: 0.5316 - val_acc: 0.7258\n",
      "Epoch 138/5000\n",
      "552/552 [==============================] - 0s 8us/step - loss: 0.4559 - acc: 0.7844 - val_loss: 0.5314 - val_acc: 0.7258\n",
      "Epoch 139/5000\n",
      "552/552 [==============================] - 0s 6us/step - loss: 0.4556 - acc: 0.7844 - val_loss: 0.5313 - val_acc: 0.7258\n",
      "Epoch 140/5000\n",
      "552/552 [==============================] - 0s 7us/step - loss: 0.4553 - acc: 0.7826 - val_loss: 0.5311 - val_acc: 0.7258\n",
      "Epoch 141/5000\n",
      "552/552 [==============================] - 0s 8us/step - loss: 0.4550 - acc: 0.7844 - val_loss: 0.5310 - val_acc: 0.7258\n",
      "Epoch 142/5000\n",
      "552/552 [==============================] - 0s 6us/step - loss: 0.4547 - acc: 0.7844 - val_loss: 0.5308 - val_acc: 0.7258\n",
      "Epoch 143/5000\n",
      "552/552 [==============================] - 0s 7us/step - loss: 0.4543 - acc: 0.7844 - val_loss: 0.5307 - val_acc: 0.7258\n",
      "Epoch 144/5000\n",
      "552/552 [==============================] - 0s 9us/step - loss: 0.4540 - acc: 0.7844 - val_loss: 0.5305 - val_acc: 0.7258\n",
      "Epoch 145/5000\n",
      "552/552 [==============================] - 0s 7us/step - loss: 0.4537 - acc: 0.7844 - val_loss: 0.5304 - val_acc: 0.7258\n",
      "Epoch 146/5000\n",
      "552/552 [==============================] - 0s 7us/step - loss: 0.4534 - acc: 0.7844 - val_loss: 0.5303 - val_acc: 0.7258\n",
      "Epoch 147/5000\n",
      "552/552 [==============================] - 0s 5us/step - loss: 0.4531 - acc: 0.7844 - val_loss: 0.5301 - val_acc: 0.7258\n",
      "Epoch 148/5000\n",
      "552/552 [==============================] - 0s 7us/step - loss: 0.4528 - acc: 0.7844 - val_loss: 0.5300 - val_acc: 0.7258\n",
      "Epoch 149/5000\n",
      "552/552 [==============================] - 0s 8us/step - loss: 0.4525 - acc: 0.7844 - val_loss: 0.5299 - val_acc: 0.7258\n",
      "Epoch 150/5000\n",
      "552/552 [==============================] - 0s 8us/step - loss: 0.4523 - acc: 0.7844 - val_loss: 0.5298 - val_acc: 0.7258\n",
      "Epoch 151/5000\n",
      "552/552 [==============================] - 0s 6us/step - loss: 0.4520 - acc: 0.7844 - val_loss: 0.5297 - val_acc: 0.7258\n",
      "Epoch 152/5000\n",
      "552/552 [==============================] - 0s 7us/step - loss: 0.4517 - acc: 0.7844 - val_loss: 0.5296 - val_acc: 0.7258\n",
      "Epoch 153/5000\n",
      "552/552 [==============================] - 0s 7us/step - loss: 0.4514 - acc: 0.7844 - val_loss: 0.5295 - val_acc: 0.7258\n",
      "Epoch 154/5000\n",
      "552/552 [==============================] - 0s 7us/step - loss: 0.4512 - acc: 0.7844 - val_loss: 0.5294 - val_acc: 0.7258\n",
      "Epoch 155/5000\n",
      "552/552 [==============================] - 0s 7us/step - loss: 0.4509 - acc: 0.7844 - val_loss: 0.5293 - val_acc: 0.7258\n",
      "Epoch 156/5000\n",
      "552/552 [==============================] - 0s 6us/step - loss: 0.4506 - acc: 0.7844 - val_loss: 0.5292 - val_acc: 0.7258\n",
      "Epoch 157/5000\n",
      "552/552 [==============================] - 0s 5us/step - loss: 0.4504 - acc: 0.7844 - val_loss: 0.5291 - val_acc: 0.7258\n",
      "Epoch 158/5000\n",
      "552/552 [==============================] - 0s 6us/step - loss: 0.4501 - acc: 0.7844 - val_loss: 0.5290 - val_acc: 0.7258\n",
      "Epoch 159/5000\n",
      "552/552 [==============================] - 0s 8us/step - loss: 0.4498 - acc: 0.7844 - val_loss: 0.5289 - val_acc: 0.7258\n",
      "Epoch 160/5000\n",
      "552/552 [==============================] - 0s 8us/step - loss: 0.4496 - acc: 0.7844 - val_loss: 0.5288 - val_acc: 0.7258\n",
      "Epoch 161/5000\n",
      "552/552 [==============================] - 0s 9us/step - loss: 0.4493 - acc: 0.7844 - val_loss: 0.5287 - val_acc: 0.7258\n",
      "Epoch 162/5000\n",
      "552/552 [==============================] - 0s 6us/step - loss: 0.4491 - acc: 0.7844 - val_loss: 0.5286 - val_acc: 0.7258\n",
      "Epoch 163/5000\n",
      "552/552 [==============================] - 0s 5us/step - loss: 0.4488 - acc: 0.7862 - val_loss: 0.5286 - val_acc: 0.7258\n",
      "Epoch 164/5000\n",
      "552/552 [==============================] - 0s 5us/step - loss: 0.4485 - acc: 0.7862 - val_loss: 0.5285 - val_acc: 0.7258\n",
      "Epoch 165/5000\n",
      "552/552 [==============================] - 0s 6us/step - loss: 0.4483 - acc: 0.7899 - val_loss: 0.5284 - val_acc: 0.7258\n",
      "Epoch 166/5000\n",
      "552/552 [==============================] - 0s 8us/step - loss: 0.4480 - acc: 0.7899 - val_loss: 0.5283 - val_acc: 0.7258\n",
      "Epoch 167/5000\n",
      "552/552 [==============================] - 0s 7us/step - loss: 0.4478 - acc: 0.7917 - val_loss: 0.5282 - val_acc: 0.7258\n",
      "Epoch 168/5000\n",
      "552/552 [==============================] - 0s 7us/step - loss: 0.4475 - acc: 0.7917 - val_loss: 0.5281 - val_acc: 0.7258\n",
      "Epoch 169/5000\n",
      "552/552 [==============================] - 0s 6us/step - loss: 0.4473 - acc: 0.7917 - val_loss: 0.5280 - val_acc: 0.7258\n",
      "Epoch 170/5000\n",
      "552/552 [==============================] - 0s 5us/step - loss: 0.4471 - acc: 0.7917 - val_loss: 0.5279 - val_acc: 0.7258\n",
      "Epoch 171/5000\n",
      "552/552 [==============================] - 0s 5us/step - loss: 0.4468 - acc: 0.7917 - val_loss: 0.5279 - val_acc: 0.7258\n",
      "Epoch 172/5000\n",
      "552/552 [==============================] - 0s 6us/step - loss: 0.4466 - acc: 0.7917 - val_loss: 0.5278 - val_acc: 0.7258\n",
      "Epoch 173/5000\n",
      "552/552 [==============================] - 0s 7us/step - loss: 0.4463 - acc: 0.7935 - val_loss: 0.5277 - val_acc: 0.7258\n",
      "Epoch 174/5000\n",
      "552/552 [==============================] - 0s 6us/step - loss: 0.4461 - acc: 0.7935 - val_loss: 0.5276 - val_acc: 0.7258\n",
      "Epoch 175/5000\n",
      "552/552 [==============================] - 0s 8us/step - loss: 0.4459 - acc: 0.7935 - val_loss: 0.5275 - val_acc: 0.7258\n",
      "Epoch 176/5000\n",
      "552/552 [==============================] - 0s 6us/step - loss: 0.4456 - acc: 0.7935 - val_loss: 0.5274 - val_acc: 0.7258\n",
      "Epoch 177/5000\n",
      "552/552 [==============================] - 0s 6us/step - loss: 0.4454 - acc: 0.7935 - val_loss: 0.5273 - val_acc: 0.7258\n",
      "Epoch 178/5000\n",
      "552/552 [==============================] - 0s 5us/step - loss: 0.4451 - acc: 0.7917 - val_loss: 0.5272 - val_acc: 0.7258\n",
      "Epoch 179/5000\n",
      "552/552 [==============================] - 0s 5us/step - loss: 0.4449 - acc: 0.7899 - val_loss: 0.5271 - val_acc: 0.7258\n",
      "Epoch 180/5000\n",
      "552/552 [==============================] - 0s 8us/step - loss: 0.4447 - acc: 0.7899 - val_loss: 0.5270 - val_acc: 0.7258\n",
      "Epoch 181/5000\n",
      "552/552 [==============================] - 0s 7us/step - loss: 0.4445 - acc: 0.7899 - val_loss: 0.5269 - val_acc: 0.7258\n",
      "Epoch 182/5000\n",
      "552/552 [==============================] - 0s 6us/step - loss: 0.4442 - acc: 0.7899 - val_loss: 0.5269 - val_acc: 0.7258\n",
      "Epoch 183/5000\n",
      "552/552 [==============================] - 0s 7us/step - loss: 0.4440 - acc: 0.7899 - val_loss: 0.5268 - val_acc: 0.7258\n",
      "Epoch 184/5000\n",
      "552/552 [==============================] - 0s 5us/step - loss: 0.4438 - acc: 0.7917 - val_loss: 0.5267 - val_acc: 0.7258\n",
      "Epoch 185/5000\n",
      "552/552 [==============================] - 0s 5us/step - loss: 0.4436 - acc: 0.7917 - val_loss: 0.5266 - val_acc: 0.7258\n",
      "Epoch 186/5000\n",
      "552/552 [==============================] - 0s 4us/step - loss: 0.4433 - acc: 0.7917 - val_loss: 0.5266 - val_acc: 0.7258\n",
      "Epoch 187/5000\n",
      "552/552 [==============================] - 0s 5us/step - loss: 0.4431 - acc: 0.7917 - val_loss: 0.5265 - val_acc: 0.7258\n",
      "Epoch 188/5000\n",
      "552/552 [==============================] - 0s 5us/step - loss: 0.4429 - acc: 0.7917 - val_loss: 0.5264 - val_acc: 0.7258\n",
      "Epoch 189/5000\n",
      "552/552 [==============================] - 0s 7us/step - loss: 0.4427 - acc: 0.7917 - val_loss: 0.5264 - val_acc: 0.7258\n",
      "Epoch 190/5000\n",
      "552/552 [==============================] - 0s 7us/step - loss: 0.4425 - acc: 0.7917 - val_loss: 0.5263 - val_acc: 0.7258\n",
      "Epoch 191/5000\n",
      "552/552 [==============================] - 0s 7us/step - loss: 0.4422 - acc: 0.7917 - val_loss: 0.5263 - val_acc: 0.7258\n",
      "Epoch 192/5000\n",
      "552/552 [==============================] - 0s 7us/step - loss: 0.4420 - acc: 0.7917 - val_loss: 0.5262 - val_acc: 0.7258\n",
      "Epoch 193/5000\n",
      "552/552 [==============================] - 0s 5us/step - loss: 0.4418 - acc: 0.7917 - val_loss: 0.5262 - val_acc: 0.7258\n",
      "Epoch 194/5000\n",
      "552/552 [==============================] - 0s 6us/step - loss: 0.4416 - acc: 0.7917 - val_loss: 0.5261 - val_acc: 0.7258\n",
      "Epoch 195/5000\n",
      "552/552 [==============================] - 0s 6us/step - loss: 0.4414 - acc: 0.7917 - val_loss: 0.5260 - val_acc: 0.7258\n",
      "Epoch 196/5000\n",
      "552/552 [==============================] - 0s 5us/step - loss: 0.4412 - acc: 0.7917 - val_loss: 0.5260 - val_acc: 0.7258\n",
      "Epoch 197/5000\n",
      "552/552 [==============================] - 0s 6us/step - loss: 0.4410 - acc: 0.7917 - val_loss: 0.5259 - val_acc: 0.7258\n",
      "Epoch 198/5000\n",
      "552/552 [==============================] - 0s 5us/step - loss: 0.4408 - acc: 0.7917 - val_loss: 0.5259 - val_acc: 0.7258\n",
      "Epoch 199/5000\n",
      "552/552 [==============================] - 0s 9us/step - loss: 0.4406 - acc: 0.7917 - val_loss: 0.5258 - val_acc: 0.7258\n",
      "Epoch 200/5000\n",
      "552/552 [==============================] - 0s 7us/step - loss: 0.4404 - acc: 0.7917 - val_loss: 0.5257 - val_acc: 0.7258\n",
      "Epoch 201/5000\n",
      "552/552 [==============================] - 0s 7us/step - loss: 0.4403 - acc: 0.7917 - val_loss: 0.5257 - val_acc: 0.7258\n",
      "Epoch 202/5000\n",
      "552/552 [==============================] - 0s 6us/step - loss: 0.4401 - acc: 0.7917 - val_loss: 0.5256 - val_acc: 0.7258\n",
      "Epoch 203/5000\n",
      "552/552 [==============================] - 0s 6us/step - loss: 0.4399 - acc: 0.7917 - val_loss: 0.5255 - val_acc: 0.7258\n",
      "Epoch 204/5000\n",
      "552/552 [==============================] - 0s 7us/step - loss: 0.4397 - acc: 0.7899 - val_loss: 0.5254 - val_acc: 0.7258\n",
      "Epoch 205/5000\n",
      "552/552 [==============================] - 0s 8us/step - loss: 0.4395 - acc: 0.7899 - val_loss: 0.5253 - val_acc: 0.7258\n",
      "Epoch 206/5000\n",
      "552/552 [==============================] - 0s 7us/step - loss: 0.4393 - acc: 0.7917 - val_loss: 0.5252 - val_acc: 0.7258\n",
      "Epoch 207/5000\n",
      "552/552 [==============================] - 0s 7us/step - loss: 0.4391 - acc: 0.7917 - val_loss: 0.5251 - val_acc: 0.7258\n",
      "Epoch 208/5000\n",
      "552/552 [==============================] - 0s 6us/step - loss: 0.4389 - acc: 0.7917 - val_loss: 0.5250 - val_acc: 0.7258\n",
      "Epoch 209/5000\n",
      "552/552 [==============================] - 0s 7us/step - loss: 0.4387 - acc: 0.7917 - val_loss: 0.5249 - val_acc: 0.7258\n",
      "Epoch 210/5000\n",
      "552/552 [==============================] - 0s 8us/step - loss: 0.4386 - acc: 0.7917 - val_loss: 0.5249 - val_acc: 0.7258\n",
      "Epoch 211/5000\n",
      "552/552 [==============================] - 0s 8us/step - loss: 0.4384 - acc: 0.7953 - val_loss: 0.5248 - val_acc: 0.7258\n",
      "Epoch 212/5000\n",
      "552/552 [==============================] - 0s 6us/step - loss: 0.4382 - acc: 0.7953 - val_loss: 0.5247 - val_acc: 0.7258\n",
      "Epoch 213/5000\n",
      "552/552 [==============================] - 0s 7us/step - loss: 0.4380 - acc: 0.7953 - val_loss: 0.5246 - val_acc: 0.7258\n",
      "Epoch 214/5000\n",
      "552/552 [==============================] - 0s 5us/step - loss: 0.4378 - acc: 0.7953 - val_loss: 0.5245 - val_acc: 0.7258\n",
      "Epoch 215/5000\n",
      "552/552 [==============================] - 0s 6us/step - loss: 0.4376 - acc: 0.7953 - val_loss: 0.5245 - val_acc: 0.7258\n",
      "Epoch 216/5000\n",
      "552/552 [==============================] - 0s 8us/step - loss: 0.4375 - acc: 0.7953 - val_loss: 0.5244 - val_acc: 0.7258\n",
      "Epoch 217/5000\n",
      "552/552 [==============================] - 0s 8us/step - loss: 0.4373 - acc: 0.7953 - val_loss: 0.5243 - val_acc: 0.7258\n",
      "Epoch 218/5000\n",
      "552/552 [==============================] - 0s 7us/step - loss: 0.4371 - acc: 0.7953 - val_loss: 0.5243 - val_acc: 0.7258\n",
      "Epoch 219/5000\n",
      "552/552 [==============================] - 0s 7us/step - loss: 0.4369 - acc: 0.7953 - val_loss: 0.5242 - val_acc: 0.7258\n",
      "Epoch 220/5000\n",
      "552/552 [==============================] - 0s 6us/step - loss: 0.4368 - acc: 0.7953 - val_loss: 0.5242 - val_acc: 0.7258\n",
      "Epoch 221/5000\n",
      "552/552 [==============================] - 0s 7us/step - loss: 0.4366 - acc: 0.7953 - val_loss: 0.5242 - val_acc: 0.7258\n",
      "Epoch 222/5000\n",
      "552/552 [==============================] - 0s 8us/step - loss: 0.4364 - acc: 0.7953 - val_loss: 0.5241 - val_acc: 0.7258\n",
      "Epoch 223/5000\n",
      "552/552 [==============================] - 0s 6us/step - loss: 0.4362 - acc: 0.7953 - val_loss: 0.5241 - val_acc: 0.7258\n",
      "Epoch 224/5000\n",
      "552/552 [==============================] - 0s 7us/step - loss: 0.4360 - acc: 0.7953 - val_loss: 0.5241 - val_acc: 0.7258\n",
      "Epoch 225/5000\n",
      "552/552 [==============================] - 0s 6us/step - loss: 0.4359 - acc: 0.7953 - val_loss: 0.5241 - val_acc: 0.7258\n",
      "Epoch 226/5000\n",
      "552/552 [==============================] - 0s 8us/step - loss: 0.4357 - acc: 0.7953 - val_loss: 0.5241 - val_acc: 0.7258\n",
      "Epoch 227/5000\n",
      "552/552 [==============================] - 0s 8us/step - loss: 0.4355 - acc: 0.7953 - val_loss: 0.5240 - val_acc: 0.7258\n",
      "Epoch 228/5000\n",
      "552/552 [==============================] - 0s 9us/step - loss: 0.4353 - acc: 0.7953 - val_loss: 0.5240 - val_acc: 0.7258\n",
      "Epoch 229/5000\n",
      "552/552 [==============================] - 0s 6us/step - loss: 0.4352 - acc: 0.7953 - val_loss: 0.5240 - val_acc: 0.7258\n",
      "Epoch 230/5000\n",
      "552/552 [==============================] - 0s 5us/step - loss: 0.4350 - acc: 0.7953 - val_loss: 0.5240 - val_acc: 0.7258\n",
      "Epoch 231/5000\n",
      "552/552 [==============================] - 0s 5us/step - loss: 0.4348 - acc: 0.7953 - val_loss: 0.5240 - val_acc: 0.7258\n",
      "Epoch 232/5000\n",
      "552/552 [==============================] - 0s 5us/step - loss: 0.4346 - acc: 0.7953 - val_loss: 0.5240 - val_acc: 0.7258\n",
      "Epoch 233/5000\n",
      "552/552 [==============================] - 0s 6us/step - loss: 0.4345 - acc: 0.7953 - val_loss: 0.5240 - val_acc: 0.7258\n",
      "Epoch 234/5000\n",
      "552/552 [==============================] - 0s 7us/step - loss: 0.4343 - acc: 0.7953 - val_loss: 0.5240 - val_acc: 0.7258\n",
      "Epoch 235/5000\n",
      "552/552 [==============================] - 0s 9us/step - loss: 0.4341 - acc: 0.7953 - val_loss: 0.5240 - val_acc: 0.7258\n",
      "Epoch 236/5000\n",
      "552/552 [==============================] - 0s 6us/step - loss: 0.4339 - acc: 0.7953 - val_loss: 0.5240 - val_acc: 0.7258\n",
      "Epoch 237/5000\n",
      "552/552 [==============================] - 0s 7us/step - loss: 0.4337 - acc: 0.7935 - val_loss: 0.5240 - val_acc: 0.7258\n",
      "Epoch 238/5000\n",
      "552/552 [==============================] - 0s 6us/step - loss: 0.4336 - acc: 0.7935 - val_loss: 0.5240 - val_acc: 0.7258\n",
      "Epoch 239/5000\n",
      "552/552 [==============================] - 0s 7us/step - loss: 0.4334 - acc: 0.7935 - val_loss: 0.5240 - val_acc: 0.7258\n",
      "Epoch 240/5000\n",
      "552/552 [==============================] - 0s 6us/step - loss: 0.4332 - acc: 0.7935 - val_loss: 0.5240 - val_acc: 0.7258\n",
      "Epoch 241/5000\n",
      "552/552 [==============================] - 0s 6us/step - loss: 0.4330 - acc: 0.7935 - val_loss: 0.5240 - val_acc: 0.7258\n",
      "Epoch 242/5000\n",
      "552/552 [==============================] - 0s 6us/step - loss: 0.4329 - acc: 0.7935 - val_loss: 0.5240 - val_acc: 0.7258\n",
      "Epoch 243/5000\n",
      "552/552 [==============================] - 0s 5us/step - loss: 0.4327 - acc: 0.7935 - val_loss: 0.5241 - val_acc: 0.7258\n",
      "Epoch 244/5000\n",
      "552/552 [==============================] - 0s 6us/step - loss: 0.4325 - acc: 0.7917 - val_loss: 0.5241 - val_acc: 0.7258\n",
      "Epoch 245/5000\n",
      "552/552 [==============================] - 0s 5us/step - loss: 0.4324 - acc: 0.7917 - val_loss: 0.5241 - val_acc: 0.7258\n",
      "Epoch 246/5000\n",
      "552/552 [==============================] - 0s 5us/step - loss: 0.4322 - acc: 0.7917 - val_loss: 0.5242 - val_acc: 0.7258\n",
      "Epoch 247/5000\n",
      "552/552 [==============================] - 0s 6us/step - loss: 0.4320 - acc: 0.7917 - val_loss: 0.5242 - val_acc: 0.7258\n",
      "Epoch 248/5000\n",
      "552/552 [==============================] - 0s 5us/step - loss: 0.4318 - acc: 0.7917 - val_loss: 0.5242 - val_acc: 0.7258\n",
      "Epoch 249/5000\n",
      "552/552 [==============================] - 0s 5us/step - loss: 0.4317 - acc: 0.7917 - val_loss: 0.5242 - val_acc: 0.7258\n",
      "Epoch 250/5000\n",
      "552/552 [==============================] - 0s 6us/step - loss: 0.4315 - acc: 0.7917 - val_loss: 0.5242 - val_acc: 0.7258\n",
      "Epoch 251/5000\n",
      "552/552 [==============================] - 0s 9us/step - loss: 0.4313 - acc: 0.7917 - val_loss: 0.5242 - val_acc: 0.7258\n",
      "Epoch 252/5000\n",
      "552/552 [==============================] - 0s 7us/step - loss: 0.4312 - acc: 0.7917 - val_loss: 0.5242 - val_acc: 0.7258\n",
      "Epoch 253/5000\n",
      "552/552 [==============================] - 0s 5us/step - loss: 0.4310 - acc: 0.7917 - val_loss: 0.5243 - val_acc: 0.7258\n",
      "Epoch 254/5000\n",
      "552/552 [==============================] - 0s 5us/step - loss: 0.4308 - acc: 0.7917 - val_loss: 0.5243 - val_acc: 0.7258\n",
      "Epoch 00254: early stopping\n"
     ]
    },
    {
     "data": {
      "text/plain": [
       "[0.41637612859924117, 0.8246753269975836]"
      ]
     },
     "execution_count": 40,
     "metadata": {},
     "output_type": "execute_result"
    }
   ],
   "source": [
    "my_optimal_nn = Sequential() \n",
    "my_optimal_nn.add(Dense(40, input_dim=8, activation='relu')) \n",
    "my_optimal_nn.add(Dense(1, activation='sigmoid'))\n",
    "my_optimal_nn.compile(loss='binary_crossentropy', optimizer='adam', metrics=['accuracy'])\n",
    "\n",
    "my_optimal_nn_fitted = my_optimal_nn.fit(scaler.transform(X_train), Y_train, epochs=5000, batch_size=X_train.shape[0],\n",
    "                                          validation_split=0.1, verbose=1, initial_epoch=0,\n",
    "                                          callbacks=[early_stop_crit])\n",
    "my_optimal_nn.evaluate(scaler.transform(X_test), Y_test, verbose=0)"
   ]
  },
  {
   "cell_type": "code",
   "execution_count": 41,
   "metadata": {},
   "outputs": [],
   "source": [
    "Y_pred = my_optimal_nn.predict_classes(scaler.transform(X_test))"
   ]
  },
  {
   "cell_type": "code",
   "execution_count": 42,
   "metadata": {},
   "outputs": [
    {
     "name": "stdout",
     "output_type": "stream",
     "text": [
      "             precision    recall  f1-score   support\n",
      "\n",
      "          0       0.86      0.90      0.88       107\n",
      "          1       0.74      0.66      0.70        47\n",
      "\n",
      "avg / total       0.82      0.82      0.82       154\n",
      "\n"
     ]
    }
   ],
   "source": [
    "print(classification_report(Y_test, Y_pred))"
   ]
  },
  {
   "cell_type": "code",
   "execution_count": 43,
   "metadata": {},
   "outputs": [
    {
     "data": {
      "image/png": "[encoded data removed]",
      "text/plain": [
       "<Figure size 432x288 with 1 Axes>"
      ]
     },
     "metadata": {},
     "output_type": "display_data"
    }
   ],
   "source": [
    "mat = confusion_matrix(Y_test, Y_pred)\n",
    "sns.heatmap(mat.T, square=True, annot=True, fmt='d', cbar=False)\n",
    "plt.xlabel('true')\n",
    "plt.ylabel('predicted');\n",
    "plt.show()"
   ]
  },
  {
   "cell_type": "code",
   "execution_count": 44,
   "metadata": {},
   "outputs": [
    {
     "name": "stdout",
     "output_type": "stream",
     "text": [
      "_________________________________________________________________\n",
      "Layer (type)                 Output Shape              Param #   \n",
      "=================================================================\n",
      "dense_55 (Dense)             (None, 40)                360       \n",
      "_________________________________________________________________\n",
      "dense_56 (Dense)             (None, 1)                 41        \n",
      "=================================================================\n",
      "Total params: 401\n",
      "Trainable params: 401\n",
      "Non-trainable params: 0\n",
      "_________________________________________________________________\n"
     ]
    }
   ],
   "source": [
    "my_optimal_nn.summary()"
   ]
  }
 ],
 "metadata": {
  "kernelspec": {
   "display_name": "Python 3",
   "language": "python",
   "name": "python3"
  },
  "language_info": {
   "codemirror_mode": {
    "name": "ipython",
    "version": 3
   },
   "file_extension": ".py",
   "mimetype": "text/x-python",
   "name": "python",
   "nbconvert_exporter": "python",
   "pygments_lexer": "ipython3",
   "version": "3.6.4"
  }
 },
 "nbformat": 4,
 "nbformat_minor": 2
}
