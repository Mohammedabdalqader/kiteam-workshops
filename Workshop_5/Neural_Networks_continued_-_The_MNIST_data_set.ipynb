{
 "cells": [
  {
   "cell_type": "markdown",
   "metadata": {},
   "source": [
    "# Neural Networks continued"
   ]
  },
  {
   "cell_type": "code",
   "execution_count": 1,
   "metadata": {},
   "outputs": [
    {
     "name": "stderr",
     "output_type": "stream",
     "text": [
      "Using TensorFlow backend.\n"
     ]
    }
   ],
   "source": [
    "import numpy as np\n",
    "import matplotlib.pyplot as plt\n",
    "import seaborn as sns\n",
    "\n",
    "from keras.datasets import mnist\n",
    "from keras.models import Sequential, load_model\n",
    "from keras.layers.core import Dense, Dropout, Activation\n",
    "from keras.layers import Dropout\n",
    "from keras.layers import Flatten\n",
    "from keras.layers.recurrent import SimpleRNN, LSTM\n",
    "from keras.layers.convolutional import Conv2D\n",
    "from keras.layers.convolutional import MaxPooling2D\n",
    "from keras.utils import np_utils\n",
    "\n",
    "from sklearn.metrics import classification_report\n",
    "from sklearn.metrics import confusion_matrix"
   ]
  },
  {
   "cell_type": "markdown",
   "metadata": {},
   "source": [
    "## Load MNIST Data"
   ]
  },
  {
   "cell_type": "code",
   "execution_count": 2,
   "metadata": {},
   "outputs": [],
   "source": [
    "(X_train, y_train), (X_test, y_test) = mnist.load_data()"
   ]
  },
  {
   "cell_type": "code",
   "execution_count": 3,
   "metadata": {},
   "outputs": [
    {
     "data": {
      "image/png": "[encoded data removed]",
      "text/plain": [
       "<Figure size 432x288 with 9 Axes>"
      ]
     },
     "metadata": {},
     "output_type": "display_data"
    }
   ],
   "source": [
    "fig = plt.figure()\n",
    "for i in range(9):\n",
    "    plt.subplot(3,3,i+1)\n",
    "    plt.tight_layout()\n",
    "    plt.imshow(X_train[i], cmap='gray', interpolation='none')\n",
    "    plt.title(\"Digit: {}\".format(y_train[i]))\n",
    "    plt.xticks([])\n",
    "    plt.yticks([])"
   ]
  },
  {
   "cell_type": "markdown",
   "metadata": {},
   "source": [
    "## Preprocessing the data"
   ]
  },
  {
   "cell_type": "code",
   "execution_count": 4,
   "metadata": {},
   "outputs": [],
   "source": [
    "X_train = X_train.astype('float32')\n",
    "X_test = X_test.astype('float32')"
   ]
  },
  {
   "cell_type": "markdown",
   "metadata": {},
   "source": [
    "##### Normalization"
   ]
  },
  {
   "cell_type": "code",
   "execution_count": 5,
   "metadata": {},
   "outputs": [],
   "source": [
    "X_train /= 255\n",
    "X_test /= 255"
   ]
  },
  {
   "cell_type": "markdown",
   "metadata": {},
   "source": [
    "##### One hot encoding"
   ]
  },
  {
   "cell_type": "code",
   "execution_count": 6,
   "metadata": {},
   "outputs": [],
   "source": [
    "n_classes = 10\n",
    "Y_train = np_utils.to_categorical(y_train, n_classes)\n",
    "Y_test = np_utils.to_categorical(y_test, n_classes)"
   ]
  },
  {
   "cell_type": "markdown",
   "metadata": {},
   "source": [
    "## Feedforward Model"
   ]
  },
  {
   "cell_type": "markdown",
   "metadata": {},
   "source": [
    "##### Reshape Input"
   ]
  },
  {
   "cell_type": "code",
   "execution_count": 7,
   "metadata": {},
   "outputs": [],
   "source": [
    "X_train_vec = X_train.reshape(60000, 784)\n",
    "X_test_vec = X_test.reshape(10000, 784)"
   ]
  },
  {
   "cell_type": "code",
   "execution_count": 8,
   "metadata": {},
   "outputs": [],
   "source": [
    "def myEvaluation(y_pred):\n",
    "    correct_ind = np.nonzero(y_pred == y_test)[0]\n",
    "    incorrect_ind = np.nonzero(y_pred != y_test)[0]\n",
    "    print(len(correct_ind),\" classified correctly\")\n",
    "    print(len(incorrect_ind),\" classified incorrectly\")\n",
    "    print()\n",
    "    print(classification_report(y_test, y_pred, digits=4))\n",
    "    sns.heatmap(confusion_matrix(y_test, y_pred), square=True, annot=True)\n",
    "    plt.show()"
   ]
  },
  {
   "cell_type": "code",
   "execution_count": 9,
   "metadata": {},
   "outputs": [],
   "source": [
    "def baseline_model():\n",
    "    model = Sequential()\n",
    "    model.add(Dense(784, input_shape=(784,)))\n",
    "    model.add(Activation('relu'))     \n",
    "    model.add(Dense(10))\n",
    "    model.add(Activation('softmax'))\n",
    "    model.compile(loss='categorical_crossentropy', optimizer='adam', metrics=['accuracy'])\n",
    "    return model"
   ]
  },
  {
   "cell_type": "code",
   "execution_count": 10,
   "metadata": {},
   "outputs": [
    {
     "name": "stdout",
     "output_type": "stream",
     "text": [
      "Epoch 1/15\n",
      " - 4s - loss: 0.2474 - acc: 0.9294\n",
      "Epoch 2/15\n",
      " - 5s - loss: 0.0985 - acc: 0.9708\n",
      "Epoch 3/15\n",
      " - 5s - loss: 0.0621 - acc: 0.9813\n",
      "Epoch 4/15\n",
      " - 5s - loss: 0.0429 - acc: 0.9872\n",
      "Epoch 5/15\n",
      " - 5s - loss: 0.0322 - acc: 0.9903\n",
      "Epoch 6/15\n",
      " - 5s - loss: 0.0214 - acc: 0.9941\n",
      "Epoch 7/15\n",
      " - 5s - loss: 0.0170 - acc: 0.9952\n",
      "Epoch 8/15\n",
      " - 5s - loss: 0.0129 - acc: 0.9964\n",
      "Epoch 9/15\n",
      " - 5s - loss: 0.0101 - acc: 0.9974\n",
      "Epoch 10/15\n",
      " - 5s - loss: 0.0070 - acc: 0.9984\n",
      "Epoch 11/15\n",
      " - 5s - loss: 0.0090 - acc: 0.9974\n",
      "Epoch 12/15\n",
      " - 5s - loss: 0.0090 - acc: 0.9970\n",
      "Epoch 13/15\n",
      " - 5s - loss: 0.0059 - acc: 0.9985\n",
      "Epoch 14/15\n",
      " - 5s - loss: 0.0024 - acc: 0.9995\n",
      "Epoch 15/15\n",
      " - 5s - loss: 0.0061 - acc: 0.9982\n"
     ]
    }
   ],
   "source": [
    "ff_model = baseline_model()\n",
    "ff_model_fitted = ff_model.fit(X_train_vec, Y_train, batch_size=128, epochs=15, verbose=2)"
   ]
  },
  {
   "cell_type": "code",
   "execution_count": 11,
   "metadata": {},
   "outputs": [
    {
     "name": "stdout",
     "output_type": "stream",
     "text": [
      "9799  classified correctly\n",
      "201  classified incorrectly\n",
      "\n",
      "             precision    recall  f1-score   support\n",
      "\n",
      "          0     0.9918    0.9816    0.9867       980\n",
      "          1     0.9758    0.9947    0.9852      1135\n",
      "          2     0.9683    0.9767    0.9725      1032\n",
      "          3     0.9909    0.9752    0.9830      1010\n",
      "          4     0.9877    0.9776    0.9826       982\n",
      "          5     0.9767    0.9865    0.9816       892\n",
      "          6     0.9692    0.9843    0.9767       958\n",
      "          7     0.9749    0.9805    0.9777      1028\n",
      "          8     0.9884    0.9610    0.9745       974\n",
      "          9     0.9773    0.9792    0.9782      1009\n",
      "\n",
      "avg / total     0.9800    0.9799    0.9799     10000\n",
      "\n"
     ]
    },
    {
     "data": {
      "image/png": "[encoded data removed]",
      "text/plain": [
       "<Figure size 432x288 with 2 Axes>"
      ]
     },
     "metadata": {},
     "output_type": "display_data"
    }
   ],
   "source": [
    "y_ff_pred = ff_model.predict_classes(X_test_vec)\n",
    "myEvaluation(y_ff_pred)"
   ]
  },
  {
   "cell_type": "markdown",
   "metadata": {},
   "source": [
    "## Convolutional Model\n"
   ]
  },
  {
   "cell_type": "markdown",
   "metadata": {},
   "source": [
    "##### Reshape Input"
   ]
  },
  {
   "cell_type": "code",
   "execution_count": 12,
   "metadata": {},
   "outputs": [],
   "source": [
    "X_train_cn = X_train.reshape(X_train.shape[0], 28, 28, 1).astype('float32')\n",
    "X_test_cn = X_test.reshape(X_test.shape[0], 28, 28, 1).astype('float32')"
   ]
  },
  {
   "cell_type": "code",
   "execution_count": 13,
   "metadata": {},
   "outputs": [
    {
     "data": {
      "text/plain": [
       "(28, 28, 1)"
      ]
     },
     "execution_count": 13,
     "metadata": {},
     "output_type": "execute_result"
    }
   ],
   "source": [
    "X_train_cn.shape[1:]"
   ]
  },
  {
   "cell_type": "code",
   "execution_count": 14,
   "metadata": {},
   "outputs": [],
   "source": [
    "def conv_model():\n",
    "    model = Sequential()\n",
    "    model.add(Conv2D(16, (3, 3), input_shape=X_train_cn.shape[1:], padding='same', activation='relu'))\n",
    "    model.add(MaxPooling2D(pool_size=(2, 2)))\n",
    "    model.add(Dropout(0.2))\n",
    "    model.add(Flatten())\n",
    "    model.add(Dense(128, activation='relu'))\n",
    "    model.add(Dense(10, activation='softmax'))\n",
    "    model.compile(loss='categorical_crossentropy', optimizer='adam', metrics=['accuracy'])\n",
    "    return model"
   ]
  },
  {
   "cell_type": "code",
   "execution_count": 15,
   "metadata": {},
   "outputs": [
    {
     "name": "stdout",
     "output_type": "stream",
     "text": [
      "Epoch 1/8\n",
      " - 11s - loss: 0.2637 - acc: 0.9237\n",
      "Epoch 2/8\n",
      " - 12s - loss: 0.0981 - acc: 0.9708\n",
      "Epoch 3/8\n",
      " - 11s - loss: 0.0709 - acc: 0.9789\n",
      "Epoch 4/8\n",
      " - 11s - loss: 0.0557 - acc: 0.9823\n",
      "Epoch 5/8\n",
      " - 12s - loss: 0.0454 - acc: 0.9859\n",
      "Epoch 6/8\n",
      " - 11s - loss: 0.0395 - acc: 0.9876\n",
      "Epoch 7/8\n",
      " - 12s - loss: 0.0315 - acc: 0.9902\n",
      "Epoch 8/8\n",
      " - 11s - loss: 0.0283 - acc: 0.9913\n"
     ]
    }
   ],
   "source": [
    "cn_model = conv_model()\n",
    "cn_model_fitted = cn_model.fit(X_train_cn, Y_train, batch_size=128, epochs=8, verbose=2)"
   ]
  },
  {
   "cell_type": "code",
   "execution_count": 16,
   "metadata": {},
   "outputs": [
    {
     "name": "stdout",
     "output_type": "stream",
     "text": [
      "9868  classified correctly\n",
      "132  classified incorrectly\n",
      "\n",
      "             precision    recall  f1-score   support\n",
      "\n",
      "          0     0.9828    0.9908    0.9868       980\n",
      "          1     0.9956    0.9903    0.9929      1135\n",
      "          2     0.9873    0.9826    0.9849      1032\n",
      "          3     0.9834    0.9960    0.9897      1010\n",
      "          4     0.9888    0.9929    0.9909       982\n",
      "          5     0.9877    0.9888    0.9882       892\n",
      "          6     0.9926    0.9854    0.9890       958\n",
      "          7     0.9883    0.9854    0.9868      1028\n",
      "          8     0.9765    0.9825    0.9795       974\n",
      "          9     0.9840    0.9732    0.9786      1009\n",
      "\n",
      "avg / total     0.9868    0.9868    0.9868     10000\n",
      "\n"
     ]
    },
    {
     "data": {
      "image/png": "[encoded data removed]",
      "text/plain": [
       "<Figure size 432x288 with 2 Axes>"
      ]
     },
     "metadata": {},
     "output_type": "display_data"
    }
   ],
   "source": [
    "y_cn_pred = cn_model.predict_classes(X_test_cn)\n",
    "myEvaluation(y_cn_pred)"
   ]
  },
  {
   "cell_type": "code",
   "execution_count": 17,
   "metadata": {},
   "outputs": [
    {
     "name": "stdout",
     "output_type": "stream",
     "text": [
      "_________________________________________________________________\n",
      "Layer (type)                 Output Shape              Param #   \n",
      "=================================================================\n",
      "conv2d_1 (Conv2D)            (None, 28, 28, 16)        160       \n",
      "_________________________________________________________________\n",
      "max_pooling2d_1 (MaxPooling2 (None, 14, 14, 16)        0         \n",
      "_________________________________________________________________\n",
      "dropout_1 (Dropout)          (None, 14, 14, 16)        0         \n",
      "_________________________________________________________________\n",
      "flatten_1 (Flatten)          (None, 3136)              0         \n",
      "_________________________________________________________________\n",
      "dense_3 (Dense)              (None, 128)               401536    \n",
      "_________________________________________________________________\n",
      "dense_4 (Dense)              (None, 10)                1290      \n",
      "=================================================================\n",
      "Total params: 402,986\n",
      "Trainable params: 402,986\n",
      "Non-trainable params: 0\n",
      "_________________________________________________________________\n"
     ]
    }
   ],
   "source": [
    "cn_model.summary()"
   ]
  },
  {
   "cell_type": "markdown",
   "metadata": {},
   "source": [
    "## Recurrent Model\n"
   ]
  },
  {
   "cell_type": "code",
   "execution_count": 18,
   "metadata": {},
   "outputs": [],
   "source": [
    "def simpleRnn_model():\n",
    "    model = Sequential()\n",
    "    model.add(SimpleRNN(50, input_shape=(28, 28)))\n",
    "    model.add(Dense(10))\n",
    "    model.add(Activation('softmax'))\n",
    "\n",
    "    model.compile(loss='categorical_crossentropy', optimizer='adam', metrics=['accuracy'])\n",
    "    return model"
   ]
  },
  {
   "cell_type": "code",
   "execution_count": 20,
   "metadata": {},
   "outputs": [
    {
     "name": "stdout",
     "output_type": "stream",
     "text": [
      "Epoch 1/8\n",
      " - 3s - loss: 0.8009 - acc: 0.7496\n",
      "Epoch 2/8\n",
      " - 3s - loss: 0.3591 - acc: 0.8946\n",
      "Epoch 3/8\n",
      " - 3s - loss: 0.2878 - acc: 0.9169\n",
      "Epoch 4/8\n",
      " - 3s - loss: 0.2539 - acc: 0.9262\n",
      "Epoch 5/8\n",
      " - 3s - loss: 0.2255 - acc: 0.9352\n",
      "Epoch 6/8\n",
      " - 3s - loss: 0.2092 - acc: 0.9399\n",
      "Epoch 7/8\n",
      " - 3s - loss: 0.1922 - acc: 0.9454\n",
      "Epoch 8/8\n",
      " - 3s - loss: 0.1849 - acc: 0.9480\n"
     ]
    }
   ],
   "source": [
    "simpleRnn = simpleRnn_model()\n",
    "simpleRnn_fitted = simpleRnn.fit(X_train, Y_train, epochs=8, batch_size=128, verbose=2)"
   ]
  },
  {
   "cell_type": "code",
   "execution_count": 22,
   "metadata": {},
   "outputs": [
    {
     "name": "stdout",
     "output_type": "stream",
     "text": [
      "9517  classified correctly\n",
      "483  classified incorrectly\n",
      "\n",
      "             precision    recall  f1-score   support\n",
      "\n",
      "          0     0.9628    0.9776    0.9701       980\n",
      "          1     0.9680    0.9868    0.9773      1135\n",
      "          2     0.9534    0.9525    0.9530      1032\n",
      "          3     0.9505    0.9307    0.9405      1010\n",
      "          4     0.9556    0.9430    0.9493       982\n",
      "          5     0.9284    0.9305    0.9295       892\n",
      "          6     0.9428    0.9635    0.9530       958\n",
      "          7     0.9654    0.9504    0.9578      1028\n",
      "          8     0.9417    0.9456    0.9436       974\n",
      "          9     0.9428    0.9306    0.9367      1009\n",
      "\n",
      "avg / total     0.9517    0.9517    0.9516     10000\n",
      "\n"
     ]
    },
    {
     "data": {
      "image/png": "[encoded data removed]",
      "text/plain": [
       "<Figure size 432x288 with 2 Axes>"
      ]
     },
     "metadata": {},
     "output_type": "display_data"
    }
   ],
   "source": [
    "y_rnn_pred = simpleRnn.predict_classes(X_test)\n",
    "myEvaluation(y_rnn_pred)"
   ]
  },
  {
   "cell_type": "code",
   "execution_count": 21,
   "metadata": {},
   "outputs": [
    {
     "name": "stdout",
     "output_type": "stream",
     "text": [
      "_________________________________________________________________\n",
      "Layer (type)                 Output Shape              Param #   \n",
      "=================================================================\n",
      "simple_rnn_1 (SimpleRNN)     (None, 50)                3950      \n",
      "_________________________________________________________________\n",
      "dense_5 (Dense)              (None, 10)                510       \n",
      "_________________________________________________________________\n",
      "activation_3 (Activation)    (None, 10)                0         \n",
      "=================================================================\n",
      "Total params: 4,460\n",
      "Trainable params: 4,460\n",
      "Non-trainable params: 0\n",
      "_________________________________________________________________\n"
     ]
    }
   ],
   "source": [
    "simpleRnn.summary()"
   ]
  }
 ],
 "metadata": {
  "kernelspec": {
   "display_name": "Python 3",
   "language": "python",
   "name": "python3"
  },
  "language_info": {
   "codemirror_mode": {
    "name": "ipython",
    "version": 3
   },
   "file_extension": ".py",
   "mimetype": "text/x-python",
   "name": "python",
   "nbconvert_exporter": "python",
   "pygments_lexer": "ipython3",
   "version": "3.6.0"
  }
 },
 "nbformat": 4,
 "nbformat_minor": 2
}
